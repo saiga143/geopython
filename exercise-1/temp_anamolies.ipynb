{
 "cells": [
  {
   "cell_type": "markdown",
   "id": "f133a617-80f6-4ceb-9c13-02c5cd0b348a",
   "metadata": {},
   "source": [
    "# Exercise - 1"
   ]
  },
  {
   "cell_type": "markdown",
   "id": "b957e39e-ec5d-436e-aaa6-d77383b0e56f",
   "metadata": {},
   "source": [
    "The goal of this exercise is to calculate and plot seasonal weather anomalies to see how temperatures have changed in different seasons over the past 100+ years. The data used for this exercise is the daily temperature data from the Sodankyla weather station of Northern Finland.\n"
   ]
  },
  {
   "cell_type": "markdown",
   "id": "9a533c61-c7e6-412f-911c-6a279d8ae1c7",
   "metadata": {},
   "source": [
    "The modules which will be used for this exercise are `pandas` and `matplotlib`. Therefore, importing these necessary modules is the first step before we proceed further. We will be actually using a sub-package of `matplotlib` library called `pyplot`, so we will import only that."
   ]
  },
  {
   "cell_type": "markdown",
   "id": "1f55d00b-5c8f-4a1c-ba79-22873827d49b",
   "metadata": {},
   "source": [
    "> Note: This exercise can be done through different methods, we follow the below explained method to cover maximum functions of `pandas`  and `pyplot` libraries"
   ]
  },
  {
   "cell_type": "code",
   "execution_count": 1,
   "id": "0c9fab5d-5229-4e93-a285-de069c1066bf",
   "metadata": {},
   "outputs": [],
   "source": [
    "#importing necessary modules\n",
    "\n",
    "import pandas as pd\n",
    "import matplotlib.pyplot as plt"
   ]
  },
  {
   "cell_type": "markdown",
   "id": "f0b2cb8a-d0f7-4dc7-bad7-4802c9df1595",
   "metadata": {},
   "source": [
    "---"
   ]
  },
  {
   "cell_type": "markdown",
   "id": "3e2047b1-a4ee-4a7d-9c0f-b19f559ca864",
   "metadata": {},
   "source": [
    "# Task 1 - Reading, cleaning and preparing the data"
   ]
  },
  {
   "cell_type": "markdown",
   "id": "8eb814c9-54d3-4481-a660-f7d82bbbc67e",
   "metadata": {},
   "source": [
    "To read the given [data](data/2315676.txt) from the **data** folder in the working directory we use the `pd.read_csv` function of the pandas library. "
   ]
  },
  {
   "cell_type": "code",
   "execution_count": 2,
   "id": "2df24e3e-6cda-4ca2-a46b-36e2eb88b948",
   "metadata": {},
   "outputs": [],
   "source": [
    "fp = 'data/2315676.txt' #fp means filepath\n",
    "\n",
    "#reading the data\n",
    "data = pd.read_csv(fp, na_values = -9999, skiprows = [1], delim_whitespace = True)"
   ]
  },
  {
   "cell_type": "markdown",
   "id": "039a1e18-831c-479b-90f5-3c251bbe708a",
   "metadata": {},
   "source": [
    "- The `pd.read_csv` function requires the path of the file which we are trying to read, which we represented by **fp**.\n",
    "- As the missing values are mentioned as `-9999` in this data, we specify that information to the function through the `na_values` argument.\n",
    "- If we inspect the data in the raw format, we can observe that the first row has no information with just blank lines `-------`, so to remove that row from the data we specify that information to the function through the `skiprows=[1]` arugment.\n",
    "- As the data is seperated by whitespaces unlike comma or other deliminators, we specify the information to the function through the `delim_whitespace = True)` argument to make the data read into a data frame (table format)"
   ]
  },
  {
   "cell_type": "markdown",
   "id": "34cebc89-9ee5-4746-88d3-1cb526ef3f8b",
   "metadata": {},
   "source": [
    "Now, inspect the data to understand the rows, columns, data and the structure"
   ]
  },
  {
   "cell_type": "code",
   "execution_count": 3,
   "id": "d54a84ff-509d-4538-8a68-338d31e75ff3",
   "metadata": {},
   "outputs": [
    {
     "data": {
      "text/html": [
       "<div>\n",
       "<style scoped>\n",
       "    .dataframe tbody tr th:only-of-type {\n",
       "        vertical-align: middle;\n",
       "    }\n",
       "\n",
       "    .dataframe tbody tr th {\n",
       "        vertical-align: top;\n",
       "    }\n",
       "\n",
       "    .dataframe thead th {\n",
       "        text-align: right;\n",
       "    }\n",
       "</style>\n",
       "<table border=\"1\" class=\"dataframe\">\n",
       "  <thead>\n",
       "    <tr style=\"text-align: right;\">\n",
       "      <th></th>\n",
       "      <th>STATION</th>\n",
       "      <th>STATION_NAME</th>\n",
       "      <th>DATE</th>\n",
       "      <th>TAVG</th>\n",
       "      <th>TMAX</th>\n",
       "      <th>TMIN</th>\n",
       "    </tr>\n",
       "  </thead>\n",
       "  <tbody>\n",
       "    <tr>\n",
       "      <th>0</th>\n",
       "      <td>GHCND:FI000007501</td>\n",
       "      <td>SODANKYLA-AWS-FI</td>\n",
       "      <td>19080101</td>\n",
       "      <td>NaN</td>\n",
       "      <td>2.0</td>\n",
       "      <td>-37.0</td>\n",
       "    </tr>\n",
       "    <tr>\n",
       "      <th>1</th>\n",
       "      <td>GHCND:FI000007501</td>\n",
       "      <td>SODANKYLA-AWS-FI</td>\n",
       "      <td>19080102</td>\n",
       "      <td>NaN</td>\n",
       "      <td>6.0</td>\n",
       "      <td>-26.0</td>\n",
       "    </tr>\n",
       "    <tr>\n",
       "      <th>2</th>\n",
       "      <td>GHCND:FI000007501</td>\n",
       "      <td>SODANKYLA-AWS-FI</td>\n",
       "      <td>19080103</td>\n",
       "      <td>NaN</td>\n",
       "      <td>7.0</td>\n",
       "      <td>-27.0</td>\n",
       "    </tr>\n",
       "    <tr>\n",
       "      <th>3</th>\n",
       "      <td>GHCND:FI000007501</td>\n",
       "      <td>SODANKYLA-AWS-FI</td>\n",
       "      <td>19080104</td>\n",
       "      <td>NaN</td>\n",
       "      <td>-3.0</td>\n",
       "      <td>-27.0</td>\n",
       "    </tr>\n",
       "    <tr>\n",
       "      <th>4</th>\n",
       "      <td>GHCND:FI000007501</td>\n",
       "      <td>SODANKYLA-AWS-FI</td>\n",
       "      <td>19080105</td>\n",
       "      <td>NaN</td>\n",
       "      <td>4.0</td>\n",
       "      <td>-36.0</td>\n",
       "    </tr>\n",
       "    <tr>\n",
       "      <th>...</th>\n",
       "      <td>...</td>\n",
       "      <td>...</td>\n",
       "      <td>...</td>\n",
       "      <td>...</td>\n",
       "      <td>...</td>\n",
       "      <td>...</td>\n",
       "    </tr>\n",
       "    <tr>\n",
       "      <th>41060</th>\n",
       "      <td>GHCND:FI000007501</td>\n",
       "      <td>SODANKYLA-AWS-FI</td>\n",
       "      <td>20201003</td>\n",
       "      <td>47.0</td>\n",
       "      <td>51.0</td>\n",
       "      <td>NaN</td>\n",
       "    </tr>\n",
       "    <tr>\n",
       "      <th>41061</th>\n",
       "      <td>GHCND:FI000007501</td>\n",
       "      <td>SODANKYLA-AWS-FI</td>\n",
       "      <td>20201004</td>\n",
       "      <td>43.0</td>\n",
       "      <td>47.0</td>\n",
       "      <td>37.0</td>\n",
       "    </tr>\n",
       "    <tr>\n",
       "      <th>41062</th>\n",
       "      <td>GHCND:FI000007501</td>\n",
       "      <td>SODANKYLA-AWS-FI</td>\n",
       "      <td>20201005</td>\n",
       "      <td>42.0</td>\n",
       "      <td>NaN</td>\n",
       "      <td>37.0</td>\n",
       "    </tr>\n",
       "    <tr>\n",
       "      <th>41063</th>\n",
       "      <td>GHCND:FI000007501</td>\n",
       "      <td>SODANKYLA-AWS-FI</td>\n",
       "      <td>20201006</td>\n",
       "      <td>45.0</td>\n",
       "      <td>46.0</td>\n",
       "      <td>43.0</td>\n",
       "    </tr>\n",
       "    <tr>\n",
       "      <th>41064</th>\n",
       "      <td>GHCND:FI000007501</td>\n",
       "      <td>SODANKYLA-AWS-FI</td>\n",
       "      <td>20201007</td>\n",
       "      <td>47.0</td>\n",
       "      <td>50.0</td>\n",
       "      <td>44.0</td>\n",
       "    </tr>\n",
       "  </tbody>\n",
       "</table>\n",
       "<p>41065 rows × 6 columns</p>\n",
       "</div>"
      ],
      "text/plain": [
       "                 STATION      STATION_NAME      DATE  TAVG  TMAX  TMIN\n",
       "0      GHCND:FI000007501  SODANKYLA-AWS-FI  19080101   NaN   2.0 -37.0\n",
       "1      GHCND:FI000007501  SODANKYLA-AWS-FI  19080102   NaN   6.0 -26.0\n",
       "2      GHCND:FI000007501  SODANKYLA-AWS-FI  19080103   NaN   7.0 -27.0\n",
       "3      GHCND:FI000007501  SODANKYLA-AWS-FI  19080104   NaN  -3.0 -27.0\n",
       "4      GHCND:FI000007501  SODANKYLA-AWS-FI  19080105   NaN   4.0 -36.0\n",
       "...                  ...               ...       ...   ...   ...   ...\n",
       "41060  GHCND:FI000007501  SODANKYLA-AWS-FI  20201003  47.0  51.0   NaN\n",
       "41061  GHCND:FI000007501  SODANKYLA-AWS-FI  20201004  43.0  47.0  37.0\n",
       "41062  GHCND:FI000007501  SODANKYLA-AWS-FI  20201005  42.0   NaN  37.0\n",
       "41063  GHCND:FI000007501  SODANKYLA-AWS-FI  20201006  45.0  46.0  43.0\n",
       "41064  GHCND:FI000007501  SODANKYLA-AWS-FI  20201007  47.0  50.0  44.0\n",
       "\n",
       "[41065 rows x 6 columns]"
      ]
     },
     "execution_count": 3,
     "metadata": {},
     "output_type": "execute_result"
    }
   ],
   "source": [
    "data"
   ]
  },
  {
   "cell_type": "markdown",
   "id": "89b4de87-d749-4f6c-8d4f-08c41c055ba2",
   "metadata": {},
   "source": [
    "We can see the data has **41065** records with **6** columns."
   ]
  },
  {
   "cell_type": "markdown",
   "id": "f00859c2-9b16-44bc-a8bd-ba23ee6578db",
   "metadata": {},
   "source": [
    "Use the `DataFrame.describe()` function to better understand your data"
   ]
  },
  {
   "cell_type": "code",
   "execution_count": 4,
   "id": "80325273-3d81-413a-916a-e5b058834d43",
   "metadata": {},
   "outputs": [
    {
     "data": {
      "text/html": [
       "<div>\n",
       "<style scoped>\n",
       "    .dataframe tbody tr th:only-of-type {\n",
       "        vertical-align: middle;\n",
       "    }\n",
       "\n",
       "    .dataframe tbody tr th {\n",
       "        vertical-align: top;\n",
       "    }\n",
       "\n",
       "    .dataframe thead th {\n",
       "        text-align: right;\n",
       "    }\n",
       "</style>\n",
       "<table border=\"1\" class=\"dataframe\">\n",
       "  <thead>\n",
       "    <tr style=\"text-align: right;\">\n",
       "      <th></th>\n",
       "      <th>DATE</th>\n",
       "      <th>TAVG</th>\n",
       "      <th>TMAX</th>\n",
       "      <th>TMIN</th>\n",
       "    </tr>\n",
       "  </thead>\n",
       "  <tbody>\n",
       "    <tr>\n",
       "      <th>count</th>\n",
       "      <td>4.106500e+04</td>\n",
       "      <td>21222.000000</td>\n",
       "      <td>40296.000000</td>\n",
       "      <td>39119.000000</td>\n",
       "    </tr>\n",
       "    <tr>\n",
       "      <th>mean</th>\n",
       "      <td>1.963960e+07</td>\n",
       "      <td>31.696211</td>\n",
       "      <td>39.034296</td>\n",
       "      <td>22.315985</td>\n",
       "    </tr>\n",
       "    <tr>\n",
       "      <th>std</th>\n",
       "      <td>3.253620e+05</td>\n",
       "      <td>20.809623</td>\n",
       "      <td>20.905912</td>\n",
       "      <td>22.187090</td>\n",
       "    </tr>\n",
       "    <tr>\n",
       "      <th>min</th>\n",
       "      <td>1.908010e+07</td>\n",
       "      <td>-53.000000</td>\n",
       "      <td>-47.000000</td>\n",
       "      <td>-57.000000</td>\n",
       "    </tr>\n",
       "    <tr>\n",
       "      <th>25%</th>\n",
       "      <td>1.936030e+07</td>\n",
       "      <td>19.000000</td>\n",
       "      <td>26.000000</td>\n",
       "      <td>9.000000</td>\n",
       "    </tr>\n",
       "    <tr>\n",
       "      <th>50%</th>\n",
       "      <td>1.964061e+07</td>\n",
       "      <td>33.000000</td>\n",
       "      <td>38.000000</td>\n",
       "      <td>27.000000</td>\n",
       "    </tr>\n",
       "    <tr>\n",
       "      <th>75%</th>\n",
       "      <td>1.992072e+07</td>\n",
       "      <td>48.000000</td>\n",
       "      <td>55.000000</td>\n",
       "      <td>39.000000</td>\n",
       "    </tr>\n",
       "    <tr>\n",
       "      <th>max</th>\n",
       "      <td>2.020101e+07</td>\n",
       "      <td>78.000000</td>\n",
       "      <td>90.000000</td>\n",
       "      <td>67.000000</td>\n",
       "    </tr>\n",
       "  </tbody>\n",
       "</table>\n",
       "</div>"
      ],
      "text/plain": [
       "               DATE          TAVG          TMAX          TMIN\n",
       "count  4.106500e+04  21222.000000  40296.000000  39119.000000\n",
       "mean   1.963960e+07     31.696211     39.034296     22.315985\n",
       "std    3.253620e+05     20.809623     20.905912     22.187090\n",
       "min    1.908010e+07    -53.000000    -47.000000    -57.000000\n",
       "25%    1.936030e+07     19.000000     26.000000      9.000000\n",
       "50%    1.964061e+07     33.000000     38.000000     27.000000\n",
       "75%    1.992072e+07     48.000000     55.000000     39.000000\n",
       "max    2.020101e+07     78.000000     90.000000     67.000000"
      ]
     },
     "execution_count": 4,
     "metadata": {},
     "output_type": "execute_result"
    }
   ],
   "source": [
    "#descriptive statistics of the data\n",
    "data.describe()"
   ]
  },
  {
   "cell_type": "markdown",
   "id": "2df48f32-11b0-4ae2-9c66-87a5bc0a2ac7",
   "metadata": {},
   "source": [
    "From the above statistics, we can observe that there are only **21222** records for the `TAVG` column, but there are significantly more records for the `TMAX` and `TMIN` columns. Therefore, we can use these max and min columns data to calculate an estimated average temperature for those records which are missing `TAVG` value."
   ]
  },
  {
   "cell_type": "markdown",
   "id": "ed2ac713-10cc-412e-9272-ae2ef4ece5bc",
   "metadata": {},
   "source": [
    "We create a new function named `estimates` that caluculates the estimated average temperatures."
   ]
  },
  {
   "cell_type": "code",
   "execution_count": 5,
   "id": "d06bf343-1952-4103-96d8-8f86c7debafc",
   "metadata": {},
   "outputs": [],
   "source": [
    "#function to calculate the average temperature data from max and min values\n",
    "def estimates(df):\n",
    "    if pd.isnull(df.TAVG): # if TAVG is missing, then only the function calculates the average value of max and min value.\n",
    "        return (df.TMAX + df.TMIN)/2\n",
    "    else:\n",
    "        return df.TAVG"
   ]
  },
  {
   "cell_type": "markdown",
   "id": "f594c11a-0cb8-4f8e-b111-bb0ac565016c",
   "metadata": {},
   "source": [
    "Now, we use the above function to find the estimated average temperatures and add it to our data frame `data` using the `apply` function of pandas."
   ]
  },
  {
   "cell_type": "markdown",
   "id": "6d620d7b-7e1d-4bb2-a548-59cc62b6ec72",
   "metadata": {},
   "source": [
    "We a create a new column labelled `TAVG_EST` to record our new estimated average temperatures so that we do not mess with original data."
   ]
  },
  {
   "cell_type": "code",
   "execution_count": 6,
   "id": "843466c2-e355-4959-9b61-16bffd88b097",
   "metadata": {},
   "outputs": [],
   "source": [
    "#adding the estimated average daily temperatures to a new column\n",
    "data['TAVG_EST'] = data.apply(estimates, axis = 'columns')"
   ]
  },
  {
   "cell_type": "markdown",
   "id": "41062c6a-ae8a-4b43-a829-69be984477d9",
   "metadata": {},
   "source": [
    "The `apply` function takes the argument of:\n",
    "\n",
    "- what function we are passing the data frame data through : `estimates` function.\n",
    "- through which axis we are passing this function through : `columns` in this case as `TAVG`, `TMAX` & `TMIN` are column labels."
   ]
  },
  {
   "cell_type": "code",
   "execution_count": 7,
   "id": "b6e0502a-faab-4d30-9c1c-8a4947b10945",
   "metadata": {},
   "outputs": [],
   "source": [
    "#dropping the missing values in estimated average temperature data column\n",
    "data.dropna(subset=['TAVG_EST'], inplace=True)"
   ]
  },
  {
   "cell_type": "markdown",
   "id": "d2a248b3-e53c-4e04-af7d-3b098286490b",
   "metadata": {},
   "source": [
    "Before we proceed further, we can remove the records which still have missing values for the average temperature using the `DataFrame.dropna()` function.\n",
    "\n",
    "We can specify to the function about which column it should look through for missing values using the `subset` argument. The argument `inplace= True` drops the missing values and rewrites the existing data frame."
   ]
  },
  {
   "cell_type": "code",
   "execution_count": 8,
   "id": "3297f2c1-785f-4be5-8ba7-2ea7dd4d4426",
   "metadata": {},
   "outputs": [
    {
     "data": {
      "text/html": [
       "<div>\n",
       "<style scoped>\n",
       "    .dataframe tbody tr th:only-of-type {\n",
       "        vertical-align: middle;\n",
       "    }\n",
       "\n",
       "    .dataframe tbody tr th {\n",
       "        vertical-align: top;\n",
       "    }\n",
       "\n",
       "    .dataframe thead th {\n",
       "        text-align: right;\n",
       "    }\n",
       "</style>\n",
       "<table border=\"1\" class=\"dataframe\">\n",
       "  <thead>\n",
       "    <tr style=\"text-align: right;\">\n",
       "      <th></th>\n",
       "      <th>DATE</th>\n",
       "      <th>TAVG</th>\n",
       "      <th>TMAX</th>\n",
       "      <th>TMIN</th>\n",
       "      <th>TAVG_EST</th>\n",
       "    </tr>\n",
       "  </thead>\n",
       "  <tbody>\n",
       "    <tr>\n",
       "      <th>count</th>\n",
       "      <td>4.088200e+04</td>\n",
       "      <td>21222.000000</td>\n",
       "      <td>40206.000000</td>\n",
       "      <td>39026.000000</td>\n",
       "      <td>40882.000000</td>\n",
       "    </tr>\n",
       "    <tr>\n",
       "      <th>mean</th>\n",
       "      <td>1.964191e+07</td>\n",
       "      <td>31.696211</td>\n",
       "      <td>39.054271</td>\n",
       "      <td>22.353098</td>\n",
       "      <td>30.878675</td>\n",
       "    </tr>\n",
       "    <tr>\n",
       "      <th>std</th>\n",
       "      <td>3.242160e+05</td>\n",
       "      <td>20.809623</td>\n",
       "      <td>20.916017</td>\n",
       "      <td>22.170767</td>\n",
       "      <td>20.910897</td>\n",
       "    </tr>\n",
       "    <tr>\n",
       "      <th>min</th>\n",
       "      <td>1.908010e+07</td>\n",
       "      <td>-53.000000</td>\n",
       "      <td>-47.000000</td>\n",
       "      <td>-57.000000</td>\n",
       "      <td>-53.000000</td>\n",
       "    </tr>\n",
       "    <tr>\n",
       "      <th>25%</th>\n",
       "      <td>1.936072e+07</td>\n",
       "      <td>19.000000</td>\n",
       "      <td>26.000000</td>\n",
       "      <td>9.000000</td>\n",
       "      <td>17.500000</td>\n",
       "    </tr>\n",
       "    <tr>\n",
       "      <th>50%</th>\n",
       "      <td>1.964091e+07</td>\n",
       "      <td>33.000000</td>\n",
       "      <td>38.000000</td>\n",
       "      <td>27.000000</td>\n",
       "      <td>32.500000</td>\n",
       "    </tr>\n",
       "    <tr>\n",
       "      <th>75%</th>\n",
       "      <td>1.992090e+07</td>\n",
       "      <td>48.000000</td>\n",
       "      <td>55.000000</td>\n",
       "      <td>39.000000</td>\n",
       "      <td>47.000000</td>\n",
       "    </tr>\n",
       "    <tr>\n",
       "      <th>max</th>\n",
       "      <td>2.020101e+07</td>\n",
       "      <td>78.000000</td>\n",
       "      <td>90.000000</td>\n",
       "      <td>67.000000</td>\n",
       "      <td>78.000000</td>\n",
       "    </tr>\n",
       "  </tbody>\n",
       "</table>\n",
       "</div>"
      ],
      "text/plain": [
       "               DATE          TAVG          TMAX          TMIN      TAVG_EST\n",
       "count  4.088200e+04  21222.000000  40206.000000  39026.000000  40882.000000\n",
       "mean   1.964191e+07     31.696211     39.054271     22.353098     30.878675\n",
       "std    3.242160e+05     20.809623     20.916017     22.170767     20.910897\n",
       "min    1.908010e+07    -53.000000    -47.000000    -57.000000    -53.000000\n",
       "25%    1.936072e+07     19.000000     26.000000      9.000000     17.500000\n",
       "50%    1.964091e+07     33.000000     38.000000     27.000000     32.500000\n",
       "75%    1.992090e+07     48.000000     55.000000     39.000000     47.000000\n",
       "max    2.020101e+07     78.000000     90.000000     67.000000     78.000000"
      ]
     },
     "execution_count": 8,
     "metadata": {},
     "output_type": "execute_result"
    }
   ],
   "source": [
    "data.describe()"
   ]
  },
  {
   "cell_type": "markdown",
   "id": "c5af5f9c-5753-4efa-8b67-b7d9c6630e8c",
   "metadata": {},
   "source": [
    "Now, we can observe that the estimated average daily temperature (`TAVG_EST`) has values for **40882** records which is way higher from the original average daily temperature records (`TAVG`) which was **21222**. We have more data to work with now!"
   ]
  },
  {
   "cell_type": "markdown",
   "id": "15c2222c-2348-4b88-a398-f281e28a48af",
   "metadata": {},
   "source": [
    "---"
   ]
  },
  {
   "cell_type": "markdown",
   "id": "8d8a750f-065e-45e6-8ff2-817f1b67743b",
   "metadata": {},
   "source": [
    "# Task 2 - Convering temperatures from fahranheit to celsius"
   ]
  },
  {
   "cell_type": "markdown",
   "id": "64153b81-f74e-4b43-a148-9fa7b187a897",
   "metadata": {},
   "source": [
    "The next step is to convert the temepratures to celsius as the data has them in fahranheit. We can do this by defining a function that converts temperature values from fahranheit to celsisu and pass it through our data average daily temperature column."
   ]
  },
  {
   "cell_type": "markdown",
   "id": "a0ed3742-ea9f-4f9f-900f-02d0cf2eae04",
   "metadata": {},
   "source": [
    "Formula for converting fahranheit temperatures to celsius is **TEMP_C = (TEMP_F - 32) / (1.8)**"
   ]
  },
  {
   "cell_type": "markdown",
   "id": "0846bf61-adda-4795-b64c-b7520fdf3bba",
   "metadata": {},
   "source": [
    "We have two choices here, we can either define a funciton here or we can call a function from a python library. As we already defined a function above in Task-1, lets call a function now!"
   ]
  },
  {
   "cell_type": "markdown",
   "id": "9c839711-ad8d-40a1-9101-1314b6714d8d",
   "metadata": {},
   "source": [
    "You can observe a python file named `temp_converter.py` in your working directory which has all the functions that are required to convert temperatures from one type to the other."
   ]
  },
  {
   "cell_type": "code",
   "execution_count": 9,
   "id": "5b30a357-3c82-4563-8a92-bb12bfae3278",
   "metadata": {},
   "outputs": [],
   "source": [
    "#import the custom python library\n",
    "import temp_converter as tc"
   ]
  },
  {
   "cell_type": "markdown",
   "id": "1c2164cc-eeda-45cf-9041-fadbb9e54d88",
   "metadata": {},
   "source": [
    "Now, lets find the average daily temperature in celsius and save it into a new column labelled `TAVG_C`"
   ]
  },
  {
   "cell_type": "code",
   "execution_count": 10,
   "id": "3c1ef768-0b86-4395-a081-b0e15db0b59d",
   "metadata": {},
   "outputs": [],
   "source": [
    "# converting temp in fahranheit to celsius\n",
    "data['TAVG_C'] = tc.fahr_to_celsius(data['TAVG_EST'])"
   ]
  },
  {
   "cell_type": "markdown",
   "id": "41df5111-4d79-4a37-af5b-2c97af8dca4e",
   "metadata": {},
   "source": [
    "`fahr_to_celsius` is one of the function of `temp_converter` custom python script"
   ]
  },
  {
   "cell_type": "markdown",
   "id": "16c3a394-0374-498e-b742-fb6e65fa971a",
   "metadata": {},
   "source": [
    "Using the `DataFrame.describe()` function, check how the descriptive statistics of data are looking now with the new variable `TAVG_C`"
   ]
  },
  {
   "cell_type": "code",
   "execution_count": 11,
   "id": "f8579c85-a638-4e0f-9d6b-a21592c5e969",
   "metadata": {},
   "outputs": [
    {
     "data": {
      "text/html": [
       "<div>\n",
       "<style scoped>\n",
       "    .dataframe tbody tr th:only-of-type {\n",
       "        vertical-align: middle;\n",
       "    }\n",
       "\n",
       "    .dataframe tbody tr th {\n",
       "        vertical-align: top;\n",
       "    }\n",
       "\n",
       "    .dataframe thead th {\n",
       "        text-align: right;\n",
       "    }\n",
       "</style>\n",
       "<table border=\"1\" class=\"dataframe\">\n",
       "  <thead>\n",
       "    <tr style=\"text-align: right;\">\n",
       "      <th></th>\n",
       "      <th>DATE</th>\n",
       "      <th>TAVG</th>\n",
       "      <th>TMAX</th>\n",
       "      <th>TMIN</th>\n",
       "      <th>TAVG_EST</th>\n",
       "      <th>TAVG_C</th>\n",
       "    </tr>\n",
       "  </thead>\n",
       "  <tbody>\n",
       "    <tr>\n",
       "      <th>count</th>\n",
       "      <td>4.088200e+04</td>\n",
       "      <td>21222.000000</td>\n",
       "      <td>40206.000000</td>\n",
       "      <td>39026.000000</td>\n",
       "      <td>40882.000000</td>\n",
       "      <td>40882.000000</td>\n",
       "    </tr>\n",
       "    <tr>\n",
       "      <th>mean</th>\n",
       "      <td>1.964191e+07</td>\n",
       "      <td>31.696211</td>\n",
       "      <td>39.054271</td>\n",
       "      <td>22.353098</td>\n",
       "      <td>30.878675</td>\n",
       "      <td>-0.622958</td>\n",
       "    </tr>\n",
       "    <tr>\n",
       "      <th>std</th>\n",
       "      <td>3.242160e+05</td>\n",
       "      <td>20.809623</td>\n",
       "      <td>20.916017</td>\n",
       "      <td>22.170767</td>\n",
       "      <td>20.910897</td>\n",
       "      <td>11.617165</td>\n",
       "    </tr>\n",
       "    <tr>\n",
       "      <th>min</th>\n",
       "      <td>1.908010e+07</td>\n",
       "      <td>-53.000000</td>\n",
       "      <td>-47.000000</td>\n",
       "      <td>-57.000000</td>\n",
       "      <td>-53.000000</td>\n",
       "      <td>-47.222222</td>\n",
       "    </tr>\n",
       "    <tr>\n",
       "      <th>25%</th>\n",
       "      <td>1.936072e+07</td>\n",
       "      <td>19.000000</td>\n",
       "      <td>26.000000</td>\n",
       "      <td>9.000000</td>\n",
       "      <td>17.500000</td>\n",
       "      <td>-8.055556</td>\n",
       "    </tr>\n",
       "    <tr>\n",
       "      <th>50%</th>\n",
       "      <td>1.964091e+07</td>\n",
       "      <td>33.000000</td>\n",
       "      <td>38.000000</td>\n",
       "      <td>27.000000</td>\n",
       "      <td>32.500000</td>\n",
       "      <td>0.277778</td>\n",
       "    </tr>\n",
       "    <tr>\n",
       "      <th>75%</th>\n",
       "      <td>1.992090e+07</td>\n",
       "      <td>48.000000</td>\n",
       "      <td>55.000000</td>\n",
       "      <td>39.000000</td>\n",
       "      <td>47.000000</td>\n",
       "      <td>8.333333</td>\n",
       "    </tr>\n",
       "    <tr>\n",
       "      <th>max</th>\n",
       "      <td>2.020101e+07</td>\n",
       "      <td>78.000000</td>\n",
       "      <td>90.000000</td>\n",
       "      <td>67.000000</td>\n",
       "      <td>78.000000</td>\n",
       "      <td>25.555556</td>\n",
       "    </tr>\n",
       "  </tbody>\n",
       "</table>\n",
       "</div>"
      ],
      "text/plain": [
       "               DATE          TAVG          TMAX          TMIN      TAVG_EST  \\\n",
       "count  4.088200e+04  21222.000000  40206.000000  39026.000000  40882.000000   \n",
       "mean   1.964191e+07     31.696211     39.054271     22.353098     30.878675   \n",
       "std    3.242160e+05     20.809623     20.916017     22.170767     20.910897   \n",
       "min    1.908010e+07    -53.000000    -47.000000    -57.000000    -53.000000   \n",
       "25%    1.936072e+07     19.000000     26.000000      9.000000     17.500000   \n",
       "50%    1.964091e+07     33.000000     38.000000     27.000000     32.500000   \n",
       "75%    1.992090e+07     48.000000     55.000000     39.000000     47.000000   \n",
       "max    2.020101e+07     78.000000     90.000000     67.000000     78.000000   \n",
       "\n",
       "             TAVG_C  \n",
       "count  40882.000000  \n",
       "mean      -0.622958  \n",
       "std       11.617165  \n",
       "min      -47.222222  \n",
       "25%       -8.055556  \n",
       "50%        0.277778  \n",
       "75%        8.333333  \n",
       "max       25.555556  "
      ]
     },
     "execution_count": 11,
     "metadata": {},
     "output_type": "execute_result"
    }
   ],
   "source": [
    "data.describe()"
   ]
  },
  {
   "cell_type": "markdown",
   "id": "5a375065-2e17-4350-8144-5c45461dbdb8",
   "metadata": {},
   "source": [
    "---"
   ]
  },
  {
   "cell_type": "markdown",
   "id": "24ac3b1b-f674-4333-9366-a9f11a14461f",
   "metadata": {},
   "source": [
    "# Task 3 - Calculating seasonal average temperature "
   ]
  },
  {
   "cell_type": "markdown",
   "id": "8466116f-af93-4b47-82d0-bdb1512f3a86",
   "metadata": {},
   "source": [
    "## Task 3.1 - Parsing `DATE` information "
   ]
  },
  {
   "cell_type": "markdown",
   "id": "604bcef2-94fe-49e9-8564-2dcf32ddeae4",
   "metadata": {},
   "source": [
    "For calculating the seasonal average temperatures, we need to group the data by seasons for each year. So, first we need to prepare our `year`, `month` and if necessary `YRMO` (year & month combined) data. We do this by parsing the information from the `DATE` column."
   ]
  },
  {
   "cell_type": "markdown",
   "id": "03730644-e14d-4292-abce-16d1c9e06fa2",
   "metadata": {},
   "source": [
    "First, we check what type of data we have our data frame using the function `DataFrame.dtypes`"
   ]
  },
  {
   "cell_type": "code",
   "execution_count": 12,
   "id": "ce552562-22e4-48b0-9ec7-a2de90d38143",
   "metadata": {},
   "outputs": [
    {
     "data": {
      "text/plain": [
       "STATION          object\n",
       "STATION_NAME     object\n",
       "DATE              int64\n",
       "TAVG            float64\n",
       "TMAX            float64\n",
       "TMIN            float64\n",
       "TAVG_EST        float64\n",
       "TAVG_C          float64\n",
       "dtype: object"
      ]
     },
     "execution_count": 12,
     "metadata": {},
     "output_type": "execute_result"
    }
   ],
   "source": [
    "data.dtypes"
   ]
  },
  {
   "cell_type": "markdown",
   "id": "33f4d312-cc56-4115-b508-adb85e6bc941",
   "metadata": {},
   "source": [
    "From above information, we know that the `DATE` data type is an integer. But, we can parse information from a string data. So, the next step is to convert `DATE` data from **int64** type to **str** type. "
   ]
  },
  {
   "cell_type": "code",
   "execution_count": 13,
   "id": "6a378dd9-9734-40b0-bbf7-7a12149bd844",
   "metadata": {},
   "outputs": [],
   "source": [
    "#converting DATA column from integer to string data type\n",
    "data['date_str'] = data['DATE'].astype(str)"
   ]
  },
  {
   "cell_type": "markdown",
   "id": "cc75d171-eaeb-4e1b-824f-6d62c1b98326",
   "metadata": {},
   "source": [
    "Above, we used the pandas function `.astype()` to convert the value from integer type to string type. We need to specifity the function \n",
    "\n",
    "- which column we want to pass this function through: here it is the `DATE` column\n",
    "- into what data type we want to change it to: mentioned as `str` implying string. (`int` for integer, `float` for float number)\n",
    "\n",
    "We created a new column labelled `date_str` in the data to store this converted data type."
   ]
  },
  {
   "cell_type": "markdown",
   "id": "7d9467d6-fffe-4ce7-85b7-1f4ced3f7b8e",
   "metadata": {},
   "source": [
    "Check the data types of the data frame now using the `DataFrame.dtypes` function"
   ]
  },
  {
   "cell_type": "code",
   "execution_count": 14,
   "id": "b612e418-d7d1-4853-8c3a-4cbbad342d9c",
   "metadata": {},
   "outputs": [
    {
     "data": {
      "text/plain": [
       "STATION          object\n",
       "STATION_NAME     object\n",
       "DATE              int64\n",
       "TAVG            float64\n",
       "TMAX            float64\n",
       "TMIN            float64\n",
       "TAVG_EST        float64\n",
       "TAVG_C          float64\n",
       "date_str         object\n",
       "dtype: object"
      ]
     },
     "execution_count": 14,
     "metadata": {},
     "output_type": "execute_result"
    }
   ],
   "source": [
    "data.dtypes"
   ]
  },
  {
   "cell_type": "markdown",
   "id": "9be04d06-ce7d-43ea-a5e9-f1416295477b",
   "metadata": {},
   "source": [
    "We can see tha the column `date_str` is not an integer or float, it is an object (string). So, now we can proceed with parsing it"
   ]
  },
  {
   "cell_type": "markdown",
   "id": "19c4c7ce-650a-4893-afe9-6900f82bab0a",
   "metadata": {},
   "source": [
    "We parse the date information from `date_str` into three new columns:\n",
    "\n",
    "1. `YRMO` : combination of year and month from `date_str` column data (we will use this later down the exercise). It is the first 6 positions in the `date_str` values. \n",
    "\n",
    "```\n",
    "index = [0,5]\n",
    "```\n",
    "            \n",
    "2. `year` : the year informaiton from `date_str` column data. It is the first 4 positions in the `date_str` values.\n",
    "\n",
    "```\n",
    "index = [0,3]\n",
    "```\n",
    "            \n",
    "3. `month` : the month information from `date_str` column data. It is the 5th and 6th position in the `date_str` values.\n",
    "            \n",
    "```\n",
    "index = [4,5]\n",
    "```\n",
    "            \n"
   ]
  },
  {
   "cell_type": "code",
   "execution_count": 15,
   "id": "ac5bef55-bb3b-4dd7-930a-ab24c3bac6db",
   "metadata": {},
   "outputs": [],
   "source": [
    "#parsing YRMO value from date information \n",
    "data['YRMO'] = data['date_str'].str.slice(start=0,stop=6)\n",
    "data['YRMO'] = data['YRMO'].astype(int) #converting the data back into integer type to use pandas numerical functions\n",
    "\n",
    "#parsing year value from date information\n",
    "data['year'] = data['date_str'].str.slice(start=0, stop=4)\n",
    "data['year'] = data['year'].astype(int) #converting the data back into integer type to use pandas numerical functions\n",
    "\n",
    "#parsing month value from date information\n",
    "data['month'] = data['date_str'].str.slice(start=4, stop=6)\n",
    "data['month'] = data['month'].astype(int) #converting the data back into integer type to use pandas numerical functions"
   ]
  },
  {
   "cell_type": "markdown",
   "id": "3c805a20-5003-4a35-a1e2-5edd22596c02",
   "metadata": {},
   "source": [
    "We parsed the information into the new columns using the pandas function `.str.slice`. We can use this function only for string data types as indicated by **str** in the function name itself. We need to specify the function:\n",
    "\n",
    "- what column from the data frame are we parsing: here it is the `date_str` column \n",
    "- what data we want to prase the selecting column data using `start` and `stop` arguments. These are indices.\n",
    "\n",
    "After parsing the necessary information from `date_str` column into new columns, we convert back the data type of new columns into integer to utilize the pandas numerical functions. \n",
    "\n",
    "**Now that we have our year, month, YRMO information we proceed to caluculate the seasonal average temperatures**"
   ]
  },
  {
   "cell_type": "markdown",
   "id": "de604371-562a-4833-8470-11837b7e6418",
   "metadata": {},
   "source": [
    "## Task 3.2 - Calculating seasonal average temperature for the period of 1909 - 2019"
   ]
  },
  {
   "cell_type": "markdown",
   "id": "08ad9e1d-1c9d-4253-b209-64af7d2ee6c9",
   "metadata": {},
   "source": [
    "To calculate the seasonal average temperature we first need to group the data into the four seasons described.\n",
    "\n",
    "- **Winter**: December, January, Febraury\n",
    "```\n",
    "month = [12, 1, 2]\n",
    "```\n",
    "- **Spring**: March, April, May\n",
    "```\n",
    "month = [3, 4, 5]\n",
    "```\n",
    "- **Summer**: June, July, August\n",
    "```\n",
    "month = [6, 7, 8]\n",
    "```\n",
    "- **Autumn**: September, October, November\n",
    "```\n",
    "month = [9, 10, 11]\n",
    "```"
   ]
  },
  {
   "cell_type": "markdown",
   "id": "cd8d74aa-fd23-46dd-a644-7835856c8545",
   "metadata": {},
   "source": [
    "Lets create new data frames for each of the 4 seasons:\n",
    "\n",
    "1. `winter_data` \n",
    "\n",
    "2. `spring_data`\n",
    "\n",
    "3. `summer_data`\n",
    "\n",
    "4. `autumn_data`\n",
    "\n",
    "We use the pandas function `.loc` to collect the selected months information for each season. "
   ]
  },
  {
   "cell_type": "code",
   "execution_count": 16,
   "id": "6f4747cd-159a-4078-915f-b5717eb9856c",
   "metadata": {},
   "outputs": [],
   "source": [
    "#creating new data frame for each of the 4 seasons\n",
    "winter_data = data[['TAVG_C', 'YRMO', 'year','month']].loc[(data.month ==12) | (data.month ==1) | (data.month ==2)]\n",
    "spring_data = data[['TAVG_C', 'YRMO', 'year','month']].loc[(data.month ==3) | (data.month ==4) | (data.month ==5)]\n",
    "summer_data = data[['TAVG_C', 'YRMO', 'year','month']].loc[(data.month ==6) | (data.month ==7) | (data.month ==8)]\n",
    "autumn_data = data[['TAVG_C', 'YRMO', 'year','month']].loc[(data.month ==9) | (data.month ==10) | (data.month ==11)]"
   ]
  },
  {
   "cell_type": "markdown",
   "id": "2240aa5d-160a-46e2-8810-05029a992fef",
   "metadata": {},
   "source": [
    "We specify the following information to the `.loc` function:\n",
    "\n",
    "- what information (columns) we need from the origin data frame which is `['TAVG_C', 'YRMO', 'year','month']` for our case. We took average temperature (celsius), YRMO, year and month data from the origin data frame.\n",
    "\n",
    "- how to filter the data that we needed which is mentioned by (`|` indicates `or` operator):\n",
    "\n",
    "    - `(data.month ==12) | (data.month ==1) | (data.month ==2)` for winter data\n",
    "    - `(data.month ==3) | (data.month ==4) | (data.month ==5)` for spring data\n",
    "    - `(data.month ==6) | (data.month ==7) | (data.month ==8)` for summer data\n",
    "    - `(data.month ==9) | (data.month ==10) | (data.month ==11)` for autumn data\n",
    "    \n",
    "Now, lets take the spring_data and see how the data looks!"
   ]
  },
  {
   "cell_type": "code",
   "execution_count": 17,
   "id": "dfc5b966-7017-4a99-bcc6-1504ccf35f53",
   "metadata": {},
   "outputs": [
    {
     "data": {
      "text/html": [
       "<div>\n",
       "<style scoped>\n",
       "    .dataframe tbody tr th:only-of-type {\n",
       "        vertical-align: middle;\n",
       "    }\n",
       "\n",
       "    .dataframe tbody tr th {\n",
       "        vertical-align: top;\n",
       "    }\n",
       "\n",
       "    .dataframe thead th {\n",
       "        text-align: right;\n",
       "    }\n",
       "</style>\n",
       "<table border=\"1\" class=\"dataframe\">\n",
       "  <thead>\n",
       "    <tr style=\"text-align: right;\">\n",
       "      <th></th>\n",
       "      <th>TAVG_C</th>\n",
       "      <th>YRMO</th>\n",
       "      <th>year</th>\n",
       "      <th>month</th>\n",
       "    </tr>\n",
       "  </thead>\n",
       "  <tbody>\n",
       "    <tr>\n",
       "      <th>60</th>\n",
       "      <td>-4.722222</td>\n",
       "      <td>190803</td>\n",
       "      <td>1908</td>\n",
       "      <td>3</td>\n",
       "    </tr>\n",
       "    <tr>\n",
       "      <th>61</th>\n",
       "      <td>-6.944444</td>\n",
       "      <td>190803</td>\n",
       "      <td>1908</td>\n",
       "      <td>3</td>\n",
       "    </tr>\n",
       "    <tr>\n",
       "      <th>63</th>\n",
       "      <td>-8.888889</td>\n",
       "      <td>190803</td>\n",
       "      <td>1908</td>\n",
       "      <td>3</td>\n",
       "    </tr>\n",
       "    <tr>\n",
       "      <th>64</th>\n",
       "      <td>-12.777778</td>\n",
       "      <td>190803</td>\n",
       "      <td>1908</td>\n",
       "      <td>3</td>\n",
       "    </tr>\n",
       "    <tr>\n",
       "      <th>65</th>\n",
       "      <td>-3.333333</td>\n",
       "      <td>190803</td>\n",
       "      <td>1908</td>\n",
       "      <td>3</td>\n",
       "    </tr>\n",
       "    <tr>\n",
       "      <th>...</th>\n",
       "      <td>...</td>\n",
       "      <td>...</td>\n",
       "      <td>...</td>\n",
       "      <td>...</td>\n",
       "    </tr>\n",
       "    <tr>\n",
       "      <th>40932</th>\n",
       "      <td>10.555556</td>\n",
       "      <td>202005</td>\n",
       "      <td>2020</td>\n",
       "      <td>5</td>\n",
       "    </tr>\n",
       "    <tr>\n",
       "      <th>40933</th>\n",
       "      <td>9.444444</td>\n",
       "      <td>202005</td>\n",
       "      <td>2020</td>\n",
       "      <td>5</td>\n",
       "    </tr>\n",
       "    <tr>\n",
       "      <th>40934</th>\n",
       "      <td>8.333333</td>\n",
       "      <td>202005</td>\n",
       "      <td>2020</td>\n",
       "      <td>5</td>\n",
       "    </tr>\n",
       "    <tr>\n",
       "      <th>40935</th>\n",
       "      <td>8.888889</td>\n",
       "      <td>202005</td>\n",
       "      <td>2020</td>\n",
       "      <td>5</td>\n",
       "    </tr>\n",
       "    <tr>\n",
       "      <th>40936</th>\n",
       "      <td>10.555556</td>\n",
       "      <td>202005</td>\n",
       "      <td>2020</td>\n",
       "      <td>5</td>\n",
       "    </tr>\n",
       "  </tbody>\n",
       "</table>\n",
       "<p>10308 rows × 4 columns</p>\n",
       "</div>"
      ],
      "text/plain": [
       "          TAVG_C    YRMO  year  month\n",
       "60     -4.722222  190803  1908      3\n",
       "61     -6.944444  190803  1908      3\n",
       "63     -8.888889  190803  1908      3\n",
       "64    -12.777778  190803  1908      3\n",
       "65     -3.333333  190803  1908      3\n",
       "...          ...     ...   ...    ...\n",
       "40932  10.555556  202005  2020      5\n",
       "40933   9.444444  202005  2020      5\n",
       "40934   8.333333  202005  2020      5\n",
       "40935   8.888889  202005  2020      5\n",
       "40936  10.555556  202005  2020      5\n",
       "\n",
       "[10308 rows x 4 columns]"
      ]
     },
     "execution_count": 17,
     "metadata": {},
     "output_type": "execute_result"
    }
   ],
   "source": [
    "spring_data"
   ]
  },
  {
   "cell_type": "markdown",
   "id": "b65f8136-c04f-4b30-81f0-edf402c78ce2",
   "metadata": {},
   "source": [
    "We can observe that these data have information from the years 1908 and 2020 as well. But, we do not need them as we want to find the seasonal average temperatures for the period 1909 - 2019. So, now we remove these records which are from 1908 or 2020.\n",
    "\n",
    "**Caution**: we remove all the data from years 1908 and 2020 from spring, summer and autumn data frames but not winter data frame. The reason is explained below"
   ]
  },
  {
   "cell_type": "code",
   "execution_count": 18,
   "id": "2ebf912a-cd93-4051-bfeb-aeffadc82740",
   "metadata": {},
   "outputs": [],
   "source": [
    "#removing data from 1908 and 2020 for spring, summer and autumn data frames\n",
    "spring_data = spring_data.loc[(spring_data.year > 1908) & (spring_data.year < 2020)]\n",
    "summer_data = summer_data.loc[(summer_data.year > 1908) & (summer_data.year < 2020)]\n",
    "autumn_data = autumn_data.loc[(autumn_data.year > 1908) & (autumn_data.year < 2020)]"
   ]
  },
  {
   "cell_type": "markdown",
   "id": "b5855c86-1292-4416-a6a7-c5933a149d9b",
   "metadata": {},
   "source": [
    "We use the same pandas function `.loc` here as well but this we used a `&` (and) operator to make sure our seasoned data frames do not have any records from the year 1908 or 2020."
   ]
  },
  {
   "cell_type": "markdown",
   "id": "1e0d8889-a271-46ff-a3a4-6603c174d2b0",
   "metadata": {},
   "source": [
    "We exculded `winter_data` from the above step because, winter season of a particular year needs information for the december month of previous year. For example:\n",
    "\n",
    "```\n",
    "Winter 1909 : December 1908 + January 1909 + Febraury 1909\n",
    "\n",
    "Winer 1910 : December 1909 + January 1910 + Febraury 1910\n",
    ".\n",
    ".\n",
    ".\n",
    "Winter 2019 : December 2018 + January 2019 + Febraury 2019\n",
    "```\n",
    "\n",
    "So, from above explanation we can understand that we do not need 2020 year information at all but we need December 1908 information. Lets update our `winter_data` by removing information from 2020."
   ]
  },
  {
   "cell_type": "code",
   "execution_count": 19,
   "id": "e5c20143-c98c-45a4-b0fa-9485468d43ac",
   "metadata": {},
   "outputs": [],
   "source": [
    "#removing 2020 information from winter_data\n",
    "winter_data = winter_data.loc[winter_data.year != 2020]"
   ]
  },
  {
   "cell_type": "markdown",
   "id": "71ff78c0-ed39-4c69-b7cc-d138419d54a3",
   "metadata": {},
   "source": [
    "The operator `!=` means **not equal to**. So, we have excluded the data from the year 2020 in our `winter_data`. \n",
    "\n",
    "In case of `winter_data` we use the `YRMO` column data to help us group into respecitve seasonal years i.e. \n",
    "\n",
    "```\n",
    "Winter 1909 Winter 1910 Winter 1911 ........ Winter 2019\n",
    "```\n",
    "\n",
    "Lets observe the `YRMO` data to get a better understand of how to use it"
   ]
  },
  {
   "cell_type": "code",
   "execution_count": 20,
   "id": "7fe4a6aa-c2a5-4f9c-b4c9-668ef885e73a",
   "metadata": {},
   "outputs": [
    {
     "data": {
      "text/html": [
       "<div>\n",
       "<style scoped>\n",
       "    .dataframe tbody tr th:only-of-type {\n",
       "        vertical-align: middle;\n",
       "    }\n",
       "\n",
       "    .dataframe tbody tr th {\n",
       "        vertical-align: top;\n",
       "    }\n",
       "\n",
       "    .dataframe thead th {\n",
       "        text-align: right;\n",
       "    }\n",
       "</style>\n",
       "<table border=\"1\" class=\"dataframe\">\n",
       "  <thead>\n",
       "    <tr style=\"text-align: right;\">\n",
       "      <th></th>\n",
       "      <th>TAVG_C</th>\n",
       "      <th>YRMO</th>\n",
       "      <th>year</th>\n",
       "      <th>month</th>\n",
       "    </tr>\n",
       "  </thead>\n",
       "  <tbody>\n",
       "    <tr>\n",
       "      <th>0</th>\n",
       "      <td>-27.500000</td>\n",
       "      <td>190801</td>\n",
       "      <td>1908</td>\n",
       "      <td>1</td>\n",
       "    </tr>\n",
       "    <tr>\n",
       "      <th>1</th>\n",
       "      <td>-23.333333</td>\n",
       "      <td>190801</td>\n",
       "      <td>1908</td>\n",
       "      <td>1</td>\n",
       "    </tr>\n",
       "    <tr>\n",
       "      <th>2</th>\n",
       "      <td>-23.333333</td>\n",
       "      <td>190801</td>\n",
       "      <td>1908</td>\n",
       "      <td>1</td>\n",
       "    </tr>\n",
       "    <tr>\n",
       "      <th>3</th>\n",
       "      <td>-26.111111</td>\n",
       "      <td>190801</td>\n",
       "      <td>1908</td>\n",
       "      <td>1</td>\n",
       "    </tr>\n",
       "    <tr>\n",
       "      <th>4</th>\n",
       "      <td>-26.666667</td>\n",
       "      <td>190801</td>\n",
       "      <td>1908</td>\n",
       "      <td>1</td>\n",
       "    </tr>\n",
       "    <tr>\n",
       "      <th>...</th>\n",
       "      <td>...</td>\n",
       "      <td>...</td>\n",
       "      <td>...</td>\n",
       "      <td>...</td>\n",
       "    </tr>\n",
       "    <tr>\n",
       "      <th>40780</th>\n",
       "      <td>-19.444444</td>\n",
       "      <td>201912</td>\n",
       "      <td>2019</td>\n",
       "      <td>12</td>\n",
       "    </tr>\n",
       "    <tr>\n",
       "      <th>40781</th>\n",
       "      <td>-8.333333</td>\n",
       "      <td>201912</td>\n",
       "      <td>2019</td>\n",
       "      <td>12</td>\n",
       "    </tr>\n",
       "    <tr>\n",
       "      <th>40782</th>\n",
       "      <td>-0.555556</td>\n",
       "      <td>201912</td>\n",
       "      <td>2019</td>\n",
       "      <td>12</td>\n",
       "    </tr>\n",
       "    <tr>\n",
       "      <th>40783</th>\n",
       "      <td>-1.666667</td>\n",
       "      <td>201912</td>\n",
       "      <td>2019</td>\n",
       "      <td>12</td>\n",
       "    </tr>\n",
       "    <tr>\n",
       "      <th>40784</th>\n",
       "      <td>-10.000000</td>\n",
       "      <td>201912</td>\n",
       "      <td>2019</td>\n",
       "      <td>12</td>\n",
       "    </tr>\n",
       "  </tbody>\n",
       "</table>\n",
       "<p>10033 rows × 4 columns</p>\n",
       "</div>"
      ],
      "text/plain": [
       "          TAVG_C    YRMO  year  month\n",
       "0     -27.500000  190801  1908      1\n",
       "1     -23.333333  190801  1908      1\n",
       "2     -23.333333  190801  1908      1\n",
       "3     -26.111111  190801  1908      1\n",
       "4     -26.666667  190801  1908      1\n",
       "...          ...     ...   ...    ...\n",
       "40780 -19.444444  201912  2019     12\n",
       "40781  -8.333333  201912  2019     12\n",
       "40782  -0.555556  201912  2019     12\n",
       "40783  -1.666667  201912  2019     12\n",
       "40784 -10.000000  201912  2019     12\n",
       "\n",
       "[10033 rows x 4 columns]"
      ]
     },
     "execution_count": 20,
     "metadata": {},
     "output_type": "execute_result"
    }
   ],
   "source": [
    "winter_data"
   ]
  },
  {
   "cell_type": "markdown",
   "id": "9355e8d9-66c5-48a7-9142-323f76889fdd",
   "metadata": {},
   "source": [
    "As we can see there are many columns for every `YRMO` format (ex: many records for 190801), lets aggregate the data for each `YRMO` value. \n",
    "\n",
    "Lets load the new grouped data based on `YRMO` value into `group1` which is a series."
   ]
  },
  {
   "cell_type": "code",
   "execution_count": 21,
   "id": "29403bba-4234-4969-ba52-25b44f4b3df0",
   "metadata": {},
   "outputs": [],
   "source": [
    "#grouping data by YRMO value\n",
    "group1 = winter_data['TAVG_C'].groupby(winter_data['YRMO']).mean()"
   ]
  },
  {
   "cell_type": "markdown",
   "id": "ae6138d0-b1fc-41fc-afd6-b93dc14ae3b5",
   "metadata": {},
   "source": [
    "We aggregate the data using the pandas function `groupby`. We specify the following information to the function:\n",
    "\n",
    "- what data frame we are looking into to aggregate the data : `winter_data`\n",
    "\n",
    "- which information we want to aggregate from origin data fram : `['TAVG_C']`\n",
    "\n",
    "- by which label (column) are we aggregating the values : `['YRMO']` coumn from `winter_data` data frame\n",
    "\n",
    "- what type of aggregator we want to use : `mean()` as we want to calculate the average temperatures\n",
    "\n",
    "Lets now, observe our group1 series data"
   ]
  },
  {
   "cell_type": "code",
   "execution_count": 22,
   "id": "09ad0238-431f-4093-9e74-79434d088b07",
   "metadata": {},
   "outputs": [
    {
     "data": {
      "text/plain": [
       "YRMO\n",
       "190801   -14.674330\n",
       "190802   -14.897119\n",
       "190812    -7.903226\n",
       "190901    -8.304598\n",
       "190902   -14.743590\n",
       "            ...    \n",
       "201802   -14.920635\n",
       "201812    -8.440860\n",
       "201901   -16.845878\n",
       "201902   -11.765873\n",
       "201912    -5.609319\n",
       "Name: TAVG_C, Length: 336, dtype: float64"
      ]
     },
     "execution_count": 22,
     "metadata": {},
     "output_type": "execute_result"
    }
   ],
   "source": [
    "group1"
   ]
  },
  {
   "cell_type": "markdown",
   "id": "60843f54-401b-4119-8087-f35eb7b6fd2b",
   "metadata": {},
   "source": [
    "From above, we can observe that there are values for `190801`, `190802` and `201912` combinations which we dont require. So lets remove them using the `drop` function of pandas."
   ]
  },
  {
   "cell_type": "code",
   "execution_count": 23,
   "id": "f8daf584-a6ed-42aa-8148-7a857e7053bc",
   "metadata": {},
   "outputs": [],
   "source": [
    "#removing the uncessary data \n",
    "group1 = group1.drop(labels=[190801, 190802, 201912])"
   ]
  },
  {
   "cell_type": "markdown",
   "id": "3bc9fbbb-c162-493e-b4bb-6eb3705dd2a7",
   "metadata": {},
   "source": [
    "For the `drop` function we specify the following information:\n",
    "\n",
    "- in what data frame /series we want to remove the values from : here it is `group1` pandas series\n",
    "\n",
    "- on what basis we want to remove the values. as `group1` is a pandas series, we mention `labels` indicating the index values.\n",
    "\n",
    "Now, once again look at the data!"
   ]
  },
  {
   "cell_type": "code",
   "execution_count": 24,
   "id": "ebf556c3-8bb4-440c-ba61-1faf93d07239",
   "metadata": {},
   "outputs": [
    {
     "data": {
      "text/plain": [
       "YRMO\n",
       "190812    -7.903226\n",
       "190901    -8.304598\n",
       "190902   -14.743590\n",
       "190912   -12.072650\n",
       "191001   -12.204861\n",
       "            ...    \n",
       "201801   -11.630824\n",
       "201802   -14.920635\n",
       "201812    -8.440860\n",
       "201901   -16.845878\n",
       "201902   -11.765873\n",
       "Name: TAVG_C, Length: 333, dtype: float64"
      ]
     },
     "execution_count": 24,
     "metadata": {},
     "output_type": "execute_result"
    }
   ],
   "source": [
    "group1"
   ]
  },
  {
   "cell_type": "markdown",
   "id": "747036c8-a6f2-4e7d-9868-a76977793f56",
   "metadata": {},
   "source": [
    "It is much better now! We have only data that is required for us to group into winter seasons of different years. If you observe closely we can find a pattern. Every three consequtive rows belong to winter season of one year. \n",
    "\n",
    "The first three rows belong to winter of 1909, the next three belong to 1910 and so on. The last three belong to 2019.\n",
    "\n",
    "So, lets create a new column and add this information to the data so that we can aggregate based on that information.\n",
    "\n",
    "But first, we need to realize that we can add columns to a pandas series, so we convert it into a pandas data frame."
   ]
  },
  {
   "cell_type": "code",
   "execution_count": 25,
   "id": "24b6821e-c37c-4f5f-a708-8db931c3eaf7",
   "metadata": {},
   "outputs": [],
   "source": [
    "#converting pandas series to a pandas data frame\n",
    "group2 = group1.to_frame()"
   ]
  },
  {
   "cell_type": "markdown",
   "id": "2dba20f0-b5bd-4e12-8ba5-801816b075f1",
   "metadata": {},
   "source": [
    "We use the pandas function `.to_frame()` to conver the pandas series `group1` into a pandas data frame and stored it in `group2`.\n",
    "\n",
    "Now, lets create a list where every three consecutive values are same starting from 1909 and ending with 2019."
   ]
  },
  {
   "cell_type": "code",
   "execution_count": 26,
   "id": "a13575d5-5e53-418b-bb9b-5a8d411485a9",
   "metadata": {},
   "outputs": [],
   "source": [
    "#creating a list that has same values for every three consequtive positions\n",
    "year_list = []\n",
    "for i in range(1909, 2020):\n",
    "    year_list = year_list + [i,i,i]"
   ]
  },
  {
   "cell_type": "markdown",
   "id": "2017ba4f-a175-4b92-8fc0-595189943614",
   "metadata": {},
   "source": [
    "We created a list labelled `year_list` to store the values. Using a `for` loop we generated a list with same three values and added it to the `year_list`."
   ]
  },
  {
   "cell_type": "markdown",
   "id": "a8114773-7ad9-4870-aa0e-4fea3928379e",
   "metadata": {},
   "source": [
    "Lets have a look at the `year_list` to see what we created."
   ]
  },
  {
   "cell_type": "code",
   "execution_count": 27,
   "id": "17566ce9-b254-4d15-81e1-c4aec7214979",
   "metadata": {},
   "outputs": [],
   "source": [
    "#year_list"
   ]
  },
  {
   "cell_type": "markdown",
   "id": "77646945-1cc8-4910-9656-56fe3a17897a",
   "metadata": {},
   "source": [
    "Now, lets add this list to our data frame `group2` labelled as `year`"
   ]
  },
  {
   "cell_type": "code",
   "execution_count": 28,
   "id": "9ceb5491-550e-4828-9d46-dedaba3c9786",
   "metadata": {},
   "outputs": [],
   "source": [
    "#instering the list to group2 pandas data frame\n",
    "group2.insert(1, 'year', year_list)"
   ]
  },
  {
   "cell_type": "markdown",
   "id": "23f228e5-bd61-436c-8eb7-d01010a7f98c",
   "metadata": {},
   "source": [
    "We use the pandas function `DataFrame.insert` to add our list values as a column to the `group2` data frame. We specify the following information:\n",
    "\n",
    "- what position we want to insert the list as a column : `1` for our case\n",
    "\n",
    "- what we want to label the new column as : `year` \n",
    "\n",
    "- which list we want to add the data frame : `year_list`"
   ]
  },
  {
   "cell_type": "markdown",
   "id": "9f59b393-fc6f-4b53-a9c5-1a975c4849a5",
   "metadata": {},
   "source": [
    "**Now, we have all our seasons data ready, so lets group them for each year to know the seasonal average temperature.**"
   ]
  },
  {
   "cell_type": "code",
   "execution_count": 29,
   "id": "e1d093f6-1bd6-4d9f-a53d-0955799ac34e",
   "metadata": {},
   "outputs": [],
   "source": [
    "#grouping seasonal temperatures by year using the mean aggregate\n",
    "spring_grouped = spring_data['TAVG_C'].groupby(spring_data['year']).mean()\n",
    "summer_grouped = summer_data['TAVG_C'].groupby(summer_data['year']).mean()\n",
    "autumn_grouped = autumn_data['TAVG_C'].groupby(autumn_data['year']).mean()\n",
    "winter_grouped = group2['TAVG_C'].groupby(group2['year']).mean()"
   ]
  },
  {
   "cell_type": "markdown",
   "id": "42be5350-9fbd-4c01-adb0-0a5a3b37bf7c",
   "metadata": {},
   "source": [
    "We use the `groupby` function to aggregate the values based on `year`. As we need average values we use the function `.mean()` function."
   ]
  },
  {
   "cell_type": "markdown",
   "id": "408ffe41-fb79-4ce6-bb96-684fd64e7034",
   "metadata": {},
   "source": [
    "We have all our seasonal average temperatures ready for every year of the time period 1909 - 2019"
   ]
  },
  {
   "cell_type": "markdown",
   "id": "2b81805c-c6c2-458c-b83d-a3ab1206f41d",
   "metadata": {},
   "source": [
    "---"
   ]
  },
  {
   "cell_type": "markdown",
   "id": "fed33c8c-c4d2-4531-a64f-971939f0334b",
   "metadata": {},
   "source": [
    "# Task 4 - Calculate seasonal average temperature for the reference period"
   ]
  },
  {
   "cell_type": "markdown",
   "id": "984f2932-8fb3-4caa-8a85-86811b3618e8",
   "metadata": {},
   "source": [
    "To know the seasonal temperature anamoly, we need to have a baseline temperature which is average seasonal temperature from a reference period. For our example the reference period is 1951 - 1980."
   ]
  },
  {
   "cell_type": "markdown",
   "id": "83d102b0-0c4d-4fd1-93ef-0d0fb4d7942c",
   "metadata": {},
   "source": [
    "So, lets repeat the same process as above tasks but for the subset data to know the average seasonal temperature for the reference period."
   ]
  },
  {
   "cell_type": "code",
   "execution_count": 30,
   "id": "0c8a5d8e-4f2c-439e-9eca-ab29777eb7c8",
   "metadata": {},
   "outputs": [],
   "source": [
    "#selecting the months for each season\n",
    "ref_winter_data = data[['TAVG_C', 'YRMO', 'year','month']].loc[(data.month ==12) | (data.month ==1) | (data.month ==2)]\n",
    "ref_spring_data = data[['TAVG_C', 'YRMO', 'year','month']].loc[(data.month ==3) | (data.month ==4) | (data.month ==5)]\n",
    "ref_summer_data = data[['TAVG_C', 'YRMO', 'year','month']].loc[(data.month ==6) | (data.month ==7) | (data.month ==8)]\n",
    "ref_autumn_data = data[['TAVG_C', 'YRMO', 'year','month']].loc[(data.month ==9) | (data.month ==10) | (data.month ==11)]"
   ]
  },
  {
   "cell_type": "markdown",
   "id": "32c3b6ec-7139-4a6e-958d-c75ebab71b8c",
   "metadata": {},
   "source": [
    "It is the same task which we performed in Task 3.2. \n",
    "\n",
    "Now, lets choose the data only from our reference period i.e. 1951 - 1980"
   ]
  },
  {
   "cell_type": "code",
   "execution_count": 31,
   "id": "d2d22411-4474-4463-bdcf-e39c67d1ccb4",
   "metadata": {},
   "outputs": [],
   "source": [
    "#subsetting our reference data\n",
    "ref_winter_data = ref_winter_data.loc[(ref_winter_data.year > 1949) & (ref_winter_data.year < 1981)]\n",
    "ref_spring_data = ref_spring_data.loc[(ref_spring_data.year > 1950) & (ref_spring_data.year < 1981)]\n",
    "ref_summer_data = ref_summer_data.loc[(ref_summer_data.year > 1950) & (ref_summer_data.year < 1981)]\n",
    "ref_autumn_data = ref_autumn_data.loc[(ref_autumn_data.year > 1950) & (ref_autumn_data.year < 1981)]"
   ]
  },
  {
   "cell_type": "markdown",
   "id": "72758f11-daf1-4005-8985-738dc4149f63",
   "metadata": {},
   "source": [
    "**Note**: The `ref_winter_data` includes the information of 1950 as well because we need the December 1950 temperature to calculate the Winter 1951 average temperature.\n",
    "\n",
    "Lets proceed with the same steps as Task 3.2, to prepare the winter season temperature for our reference year period."
   ]
  },
  {
   "cell_type": "code",
   "execution_count": 32,
   "id": "68c80958-0d7b-4827-944e-592ae612d6a5",
   "metadata": {},
   "outputs": [],
   "source": [
    "#preparing the reference period winter data\n",
    "group3 = ref_winter_data['TAVG_C'].groupby(ref_winter_data['YRMO']).mean()\n",
    "group3 = group3.drop(labels=[195001, 195002, 198012])\n",
    "group4 = group3.to_frame()\n",
    "\n",
    "ref_year_list = []\n",
    "for i in range(1951, 1981):\n",
    "    ref_year_list = ref_year_list + [i,i,i]\n",
    "    \n",
    "group4.insert(1, 'year', ref_year_list)"
   ]
  },
  {
   "cell_type": "markdown",
   "id": "3fc3b0a3-f633-48ef-a28d-3640b8d6a1c0",
   "metadata": {},
   "source": [
    "Now, lets find group the data to know the average seasonal temperature for each year of refrence period."
   ]
  },
  {
   "cell_type": "code",
   "execution_count": 33,
   "id": "d634ddd2-3221-449b-825a-26c019fc7684",
   "metadata": {},
   "outputs": [],
   "source": [
    "#grouping seasonal temperatures by year using mean aggregate for the reference period\n",
    "ref_spring_grouped = ref_spring_data['TAVG_C'].groupby(ref_spring_data['year']).mean()\n",
    "ref_summer_grouped = ref_summer_data['TAVG_C'].groupby(ref_summer_data['year']).mean()\n",
    "ref_autumn_grouped = ref_autumn_data['TAVG_C'].groupby(ref_autumn_data['year']).mean()\n",
    "ref_winter_grouped = group4['TAVG_C'].groupby(group4['year']).mean()"
   ]
  },
  {
   "cell_type": "markdown",
   "id": "010a57a4-b30f-453e-b4d7-6e326fc82db9",
   "metadata": {},
   "source": [
    "We have average seasonal temperatures for each year, but we need only value for each season to find the temperature anamolies, so we take the average value for each season using the below code."
   ]
  },
  {
   "cell_type": "code",
   "execution_count": 34,
   "id": "2943ca75-a43f-423d-a175-dfa4d47107df",
   "metadata": {},
   "outputs": [],
   "source": [
    "#finding average seasonal temperature for the reference period for each of the season\n",
    "winter_temp = ref_winter_grouped.mean()\n",
    "summer_temp = ref_summer_grouped.mean()\n",
    "spring_temp = ref_spring_grouped.mean()\n",
    "autumn_temp = ref_autumn_grouped.mean()"
   ]
  },
  {
   "cell_type": "markdown",
   "id": "aaacef8f-3a70-412f-97ae-44cffbf3bdb4",
   "metadata": {},
   "source": [
    "Now, we have average seasonal temperature for each year for the reference period: we have baseline temperature. Lets proceed to find the seasonal temperature anamolies."
   ]
  },
  {
   "cell_type": "markdown",
   "id": "7aa44de1-eddc-428e-a6c4-b3d0597ad2a4",
   "metadata": {},
   "source": [
    "---"
   ]
  },
  {
   "cell_type": "markdown",
   "id": "d8ccaed4-c828-45df-bae5-1d6eceb31aec",
   "metadata": {},
   "source": [
    "# Task 5 - Caluculating seasonal temperature anamolies"
   ]
  },
  {
   "cell_type": "markdown",
   "id": "ffadc3ae-5e58-4424-b42e-92573c8364b5",
   "metadata": {},
   "source": [
    "As the temperature anamoly is the difference between observed temperature and the baseline temperature, we just peform a simple mathematical operation. "
   ]
  },
  {
   "cell_type": "code",
   "execution_count": 35,
   "id": "6819f89d-32f5-4a87-b75c-c05f88209e4b",
   "metadata": {},
   "outputs": [],
   "source": [
    "#finding temperature anaomlies for each season for all the years in the period 1909 - 2019\n",
    "winter_grouped = winter_grouped - winter_temp\n",
    "summer_grouped = summer_grouped - summer_temp\n",
    "spring_grouped = spring_grouped - spring_temp\n",
    "autumn_grouped = autumn_grouped - autumn_temp"
   ]
  },
  {
   "cell_type": "markdown",
   "id": "3445b91e-0074-459e-96aa-98d540ea1bbd",
   "metadata": {},
   "source": [
    "Now, we have the temperature anamolies data for each of the year in the period 1909 - 2019 for each season. We can proceed to plot these information using the `matplotlib.pyplot` library."
   ]
  },
  {
   "cell_type": "markdown",
   "id": "fdbd56b4-1b36-42d5-9524-ee824fdc5471",
   "metadata": {},
   "source": [
    "---"
   ]
  },
  {
   "cell_type": "markdown",
   "id": "dda8288f-2182-49ac-97e6-0ace10ef990b",
   "metadata": {},
   "source": [
    "# Task 6 - Plotting seasonal temperature anamolies"
   ]
  },
  {
   "cell_type": "markdown",
   "id": "1ba3d9e6-16af-4778-a579-cb87bb5458a4",
   "metadata": {},
   "source": [
    "As we have our necessary data ready, we can make the seasonal temperature anamolies subplots. \n",
    "\n",
    "First lets create empty subplots using the function `plt.subplots`. We specifity the following information:\n",
    "\n",
    "- `nrows` - indicating how many rows of plots we need.\n",
    "\n",
    "- `ncols` - indicating how columns of plots we need.\n",
    "\n",
    "- `figsize` - indicating the size of the plot\n",
    "\n",
    "- `axs` - refers to axes\n",
    "\n",
    "The `axs[0][1]` indicates the plot in first row and first column, `axs[0][1]` indicates the plot in first row and second column and so on."
   ]
  },
  {
   "cell_type": "code",
   "execution_count": 36,
   "id": "293d3fd7-486e-4661-9d8e-f397432af6df",
   "metadata": {},
   "outputs": [
    {
     "data": {
      "image/png": "[encoded data removed]",
      "text/plain": [
       "<Figure size 1152x720 with 4 Axes>"
      ]
     },
     "metadata": {
      "needs_background": "light"
     },
     "output_type": "display_data"
    }
   ],
   "source": [
    "#creating empty plots\n",
    "fig, axs = plt.subplots(nrows=2, ncols=2, figsize=(16,10));\n",
    "axs\n",
    "\n",
    "#renaming plots axes for ease of use\n",
    "ax11 = axs[0][0]\n",
    "ax12 = axs[0][1]\n",
    "ax21 = axs[1][0]\n",
    "ax22 = axs[1][1]"
   ]
  },
  {
   "cell_type": "markdown",
   "id": "c721d0a2-3527-40a5-81b2-827aa3784034",
   "metadata": {},
   "source": [
    "Lets set the y-axis limits so that all four subplots are plotted against same y-axis making it easy to compare and visualize. "
   ]
  },
  {
   "cell_type": "code",
   "execution_count": 37,
   "id": "2a89a58d-954e-4cab-9e34-b9219ee68b3e",
   "metadata": {},
   "outputs": [],
   "source": [
    "# Find lower limit for y-axis\n",
    "min_temp = min(winter_grouped.min(), spring_grouped.min(), summer_grouped.min(), autumn_grouped.min())\n",
    "min_temp = min_temp - 5.0\n",
    "\n",
    "# Find upper limit for y-axis\n",
    "max_temp = max(winter_grouped.max(), spring_grouped.max(), summer_grouped.max(), autumn_grouped.max())\n",
    "max_temp = max_temp + 5.0"
   ]
  },
  {
   "cell_type": "markdown",
   "id": "a8ae5b35-df9c-446d-83b5-e4ea953c110c",
   "metadata": {},
   "source": [
    "Now, lets set a line-width and fill the subplots with our information. We will fill the subplots with our information using the function `.plot()` of pyplot library of matplotlib module. \n",
    "\n",
    "**The various information which we specify to the function `.plot()` are:**\n",
    "\n",
    "- indicating in which of the four subplots to fill the data: `ax` argument.\n",
    "\n",
    "- indicating the color: `c` argument.\n",
    "\n",
    "- indicating the line width: `lw` argument.\n",
    "\n",
    "- indicating the style of the plot: `style` argument.\n",
    "\n",
    "- indicating the y-axis limits: `ylim` argument.\n",
    "\n",
    "- indicating where are not we want the grids to be displayed in our plot: `grid` argument.\n",
    "\n",
    "**Improving the anatomy of the plot**\n",
    "\n",
    "1. To set the title of the plot we use the `fig.suptitle` function where we can also mention the size of the text using the `size` parameter.\n",
    "\n",
    "2. Rotating the x-axis labels using the function `plt.setp()` function indicating the rotation we want using the `rotation` argument.\n",
    "\n",
    "3. Setting the axis labels for all the 4 subplots using the `axs.set_xlabel()` and `axs.set_ylabel()` function.\n",
    "\n",
    "4. Displaying text on the plots using the `axs.text()` function which requires the position of the our text and text itself.\n",
    "\n",
    "5. To eliminate white spaces between different elements of the plot, we use the function `fig.tight_layout()`.\n",
    "\n",
    "6. We can save the plot into either png (or) jpeg (or) pdf using the function `plt.savefig('name')`. \n",
    "\n",
    "    1. If we want to save in png format: `name.png`\n",
    "    2. If we want to save in jpeg format: `name.jpeg`\n",
    "    3. If we want to save in pdf format: 'name.pdf', dpi = 600 / 800 / 1500 (higher the number more the quality"
   ]
  },
  {
   "cell_type": "code",
   "execution_count": 38,
   "id": "efdee704-e03f-491f-b2c4-08e0f6d582d8",
   "metadata": {},
   "outputs": [
    {
     "data": {
      "image/png": "[encoded data removed]",
      "text/plain": [
       "<Figure size 1152x720 with 4 Axes>"
      ]
     },
     "execution_count": 38,
     "metadata": {},
     "output_type": "execute_result"
    }
   ],
   "source": [
    "# Set plot line width\n",
    "line_width = 1.5\n",
    "\n",
    "# Plot data\n",
    "winter_grouped.plot(ax=ax11, c='blue', lw=line_width, style = 'ro-', \n",
    "                  ylim=[min_temp, max_temp], grid=True)\n",
    "spring_grouped.plot(ax=ax12, c='orange', lw=line_width, style = 'ro-',\n",
    "                  ylim=[min_temp, max_temp], grid=True)\n",
    "summer_grouped.plot(ax=ax21, c='red', lw=line_width, style = 'ro-',\n",
    "                  ylim=[min_temp, max_temp], grid=True)\n",
    "autumn_grouped.plot(ax=ax22, c='brown', lw=line_width, style = 'ro-',\n",
    "                  ylim=[min_temp, max_temp], grid=True)\n",
    "\n",
    "# Set figure title\n",
    "fig.suptitle('1909 - 2019 Seasonal Temperature Anamolies - Sodankyala', size = 20)\n",
    "\n",
    "# Rotate the x-axis labels so they don't overlap\n",
    "plt.setp(ax11.xaxis.get_majorticklabels(), rotation=20)\n",
    "plt.setp(ax12.xaxis.get_majorticklabels(), rotation=20)\n",
    "plt.setp(ax21.xaxis.get_majorticklabels(), rotation=20)\n",
    "plt.setp(ax22.xaxis.get_majorticklabels(), rotation=20)\n",
    "\n",
    "# Axis labels\n",
    "ax21.set_xlabel('Year', size = 15)\n",
    "ax22.set_xlabel('Year', size = 15)\n",
    "ax11.set_ylabel('Temperature Anamoly [°C]', size = 15)\n",
    "ax11.set_xlabel(\"\")\n",
    "ax12.set_xlabel(\"\")\n",
    "ax21.set_ylabel('Temperature Anamoly[°C]', size = 15)\n",
    "\n",
    "# Season label text\n",
    "ax11.text(2005, -7.5, 'Winter', size = 15)\n",
    "ax12.text(2005, -7.5, 'Spring', size = 15)\n",
    "ax21.text(2004, -7.5, 'Summer', size = 15)\n",
    "ax22.text(2005, -7.5, 'Autumn', size = 15)\n",
    "\n",
    "fig.tight_layout()\n",
    "\n",
    "fig"
   ]
  },
  {
   "cell_type": "markdown",
   "id": "94af4b52-e187-4036-9810-c2398c23f5f9",
   "metadata": {},
   "source": [
    "**Looks like we created the plot which we needed** \n",
    "\n",
    "Lets see the whole plotting code below at one place and save the plot into an image."
   ]
  },
  {
   "cell_type": "code",
   "execution_count": 40,
   "id": "06d50839-226d-4ff5-93f3-6d78b1d03712",
   "metadata": {},
   "outputs": [
    {
     "data": {
      "image/png": "[encoded data removed]",
      "text/plain": [
       "<Figure size 1152x720 with 4 Axes>"
      ]
     },
     "metadata": {
      "needs_background": "light"
     },
     "output_type": "display_data"
    }
   ],
   "source": [
    "# Find lower limit for y-axis\n",
    "min_temp = min(winter_grouped.min(), spring_grouped.min(), summer_grouped.min(), autumn_grouped.min())\n",
    "min_temp = min_temp - 5.0\n",
    "\n",
    "# Find upper limit for y-axis\n",
    "max_temp = max(winter_grouped.max(), spring_grouped.max(), summer_grouped.max(), autumn_grouped.max())\n",
    "max_temp = max_temp + 5.0\n",
    "\n",
    "\n",
    "fig, axs = plt.subplots(nrows=2, ncols=2, figsize=(16,10));\n",
    "axs\n",
    "\n",
    "ax11 = axs[0][0]\n",
    "ax12 = axs[0][1]\n",
    "ax21 = axs[1][0]\n",
    "ax22 = axs[1][1]\n",
    "\n",
    "# Set plot line width\n",
    "line_width = 1.5\n",
    "\n",
    "# Plot data\n",
    "winter_grouped.plot(ax=ax11, c='blue', lw=line_width, style = 'ro-', \n",
    "                  ylim=[min_temp, max_temp], grid=True)\n",
    "spring_grouped.plot(ax=ax12, c='orange', lw=line_width, style = 'ro-',\n",
    "                  ylim=[min_temp, max_temp], grid=True)\n",
    "summer_grouped.plot(ax=ax21, c='red', lw=line_width, style = 'ro-',\n",
    "                  ylim=[min_temp, max_temp], grid=True)\n",
    "autumn_grouped.plot(ax=ax22, c='brown', lw=line_width, style = 'ro-',\n",
    "                  ylim=[min_temp, max_temp], grid=True)\n",
    "\n",
    "# Set figure title\n",
    "fig.suptitle('1909 - 2019 Seasonal Temperature Anamolies - Sodankyala', size = 20)\n",
    "\n",
    "# Rotate the x-axis labels so they don't overlap\n",
    "plt.setp(ax11.xaxis.get_majorticklabels(), rotation=20)\n",
    "plt.setp(ax12.xaxis.get_majorticklabels(), rotation=20)\n",
    "plt.setp(ax21.xaxis.get_majorticklabels(), rotation=20)\n",
    "plt.setp(ax22.xaxis.get_majorticklabels(), rotation=20)\n",
    "\n",
    "# Axis labels\n",
    "ax21.set_xlabel('Year', size = 15)\n",
    "ax22.set_xlabel('Year', size = 15)\n",
    "ax11.set_ylabel('Temperature Anamoly [°C]', size = 15)\n",
    "ax11.set_xlabel(\"\")\n",
    "ax12.set_xlabel(\"\")\n",
    "ax21.set_ylabel('Temperature Anamoly[°C]', size = 15)\n",
    "\n",
    "# Season label text\n",
    "ax11.text(2005, -7.5, 'Winter', size = 15)\n",
    "ax12.text(2005, -7.5, 'Spring', size = 15)\n",
    "ax21.text(2004, -7.5, 'Summer', size = 15)\n",
    "ax22.text(2005, -7.5, 'Autumn', size = 15)\n",
    "\n",
    "fig.tight_layout()\n",
    "\n",
    "plt.savefig('temp_anom.jpeg', )"
   ]
  }
 ],
 "metadata": {
  "kernelspec": {
   "display_name": "Python 3",
   "language": "python",
   "name": "python3"
  },
  "language_info": {
   "codemirror_mode": {
    "name": "ipython",
    "version": 3
   },
   "file_extension": ".py",
   "mimetype": "text/x-python",
   "name": "python",
   "nbconvert_exporter": "python",
   "pygments_lexer": "ipython3",
   "version": "3.8.8"
  }
 },
 "nbformat": 4,
 "nbformat_minor": 5
}
