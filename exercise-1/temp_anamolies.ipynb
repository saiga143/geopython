{
 "cells": [
  {
   "cell_type": "markdown",
   "id": "f133a617-80f6-4ceb-9c13-02c5cd0b348a",
   "metadata": {},
   "source": [
    "# Exercise - 1"
   ]
  },
  {
   "cell_type": "markdown",
   "id": "b957e39e-ec5d-436e-aaa6-d77383b0e56f",
   "metadata": {},
   "source": [
    "The goal of this exercise is to calculate and plot seasonal weather anomalies to see how temperatures have changed in different seasons over the past 100+ years. The data used for this exercise is the daily temperature data from the Sodankyla weather station of Northern Finland.\n"
   ]
  },
  {
   "cell_type": "markdown",
   "id": "9a533c61-c7e6-412f-911c-6a279d8ae1c7",
   "metadata": {},
   "source": [
    "The modules which will be used for this exercise are `pandas` and `matplotlib`. Therefore, importing these necessary modules is the first step before we proceed further. We will be actually using a sub-package of `matplotlib` library called `pyplot`, so we will import only that."
   ]
  },
  {
   "cell_type": "code",
   "execution_count": 1,
   "id": "0c9fab5d-5229-4e93-a285-de069c1066bf",
   "metadata": {},
   "outputs": [],
   "source": [
    "#importing necessary modules\n",
    "\n",
    "import pandas as pd\n",
    "import matplotlib.pyplot as plt"
   ]
  },
  {
   "cell_type": "markdown",
   "id": "3e2047b1-a4ee-4a7d-9c0f-b19f559ca864",
   "metadata": {},
   "source": [
    "## Task 1 - Reading, cleaning and preparing the data"
   ]
  },
  {
   "cell_type": "markdown",
   "id": "8eb814c9-54d3-4481-a660-f7d82bbbc67e",
   "metadata": {},
   "source": [
    "To read the given [data](data/2315676.txt) from the **data** folder in the working directory we use the `pd.read_csv` function of the pandas library. "
   ]
  },
  {
   "cell_type": "code",
   "execution_count": 2,
   "id": "2df24e3e-6cda-4ca2-a46b-36e2eb88b948",
   "metadata": {},
   "outputs": [],
   "source": [
    "fp = 'data/2315676.txt' #fp means filepath\n",
    "\n",
    "data = pd.read_csv(fp, na_values = -9999, skiprows = [1], delim_whitespace = True)"
   ]
  },
  {
   "cell_type": "markdown",
   "id": "039a1e18-831c-479b-90f5-3c251bbe708a",
   "metadata": {},
   "source": [
    "- The `pd.read_csv` function requires the path of the file which we are trying to read, which we represented by fp.\n",
    "- As the missing values are mentioned as `-9999` in this data, we specify that information to the function through the `na_values` argument.\n",
    "- If we inspect the data in the raw format, we can observe that the first row has no information with just blank lines `-------`, so to remove that row from the data we specify that information to the function through the `skiprows=[1]` arugment.\n",
    "- As the data is seperated by whitespaces unlike comma or other deliminators, we specify the information to the function through the `delim_whitespace = True)` argument to make the data read into a data frame (table format)"
   ]
  },
  {
   "cell_type": "code",
   "execution_count": null,
   "id": "aa113bf6-6534-4d5b-ac29-9e2c0517915b",
   "metadata": {},
   "outputs": [],
   "source": []
  }
 ],
 "metadata": {
  "kernelspec": {
   "display_name": "Python 3",
   "language": "python",
   "name": "python3"
  },
  "language_info": {
   "codemirror_mode": {
    "name": "ipython",
    "version": 3
   },
   "file_extension": ".py",
   "mimetype": "text/x-python",
   "name": "python",
   "nbconvert_exporter": "python",
   "pygments_lexer": "ipython3",
   "version": "3.8.8"
  }
 },
 "nbformat": 4,
 "nbformat_minor": 5
}
