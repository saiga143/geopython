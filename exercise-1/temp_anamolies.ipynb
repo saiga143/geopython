{
 "cells": [
  {
   "cell_type": "markdown",
   "id": "f133a617-80f6-4ceb-9c13-02c5cd0b348a",
   "metadata": {},
   "source": [
    "## This notebook explains the code bit by bit to perform the tasks listed for exercise-1 and to accomplish the goal of task-1"
   ]
  },
  {
   "cell_type": "code",
   "execution_count": null,
   "id": "2d03ff13-8c8a-4f67-9747-c81d19ada5f6",
   "metadata": {},
   "outputs": [],
   "source": []
  }
 ],
 "metadata": {
  "kernelspec": {
   "display_name": "Python 3",
   "language": "python",
   "name": "python3"
  },
  "language_info": {
   "codemirror_mode": {
    "name": "ipython",
    "version": 3
   },
   "file_extension": ".py",
   "mimetype": "text/x-python",
   "name": "python",
   "nbconvert_exporter": "python",
   "pygments_lexer": "ipython3",
   "version": "3.8.8"
  }
 },
 "nbformat": 4,
 "nbformat_minor": 5
}
