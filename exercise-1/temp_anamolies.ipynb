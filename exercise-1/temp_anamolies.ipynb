{
 "cells": [
  {
   "cell_type": "markdown",
   "id": "f133a617-80f6-4ceb-9c13-02c5cd0b348a",
   "metadata": {},
   "source": [
    "# Exercise - 1"
   ]
  },
  {
   "cell_type": "markdown",
   "id": "b957e39e-ec5d-436e-aaa6-d77383b0e56f",
   "metadata": {},
   "source": [
    "The goal of this exercise is to calculate and plot seasonal weather anomalies to see how temperatures have changed in different seasons over the past 100+ years. The data used for this exercise is the daily temperature data from the Sodankyla weather station of Northern Finland.\n"
   ]
  },
  {
   "cell_type": "markdown",
   "id": "9a533c61-c7e6-412f-911c-6a279d8ae1c7",
   "metadata": {},
   "source": [
    "The modules which will be used for this exercise are `pandas` and `matplotlib`. Therefore, importing these necessary modules is the first step before we proceed further. We will be actually using a sub-package of `matplotlib` library called `pyplot`, so we will import only that."
   ]
  },
  {
   "cell_type": "code",
   "execution_count": 1,
   "id": "0c9fab5d-5229-4e93-a285-de069c1066bf",
   "metadata": {},
   "outputs": [],
   "source": [
    "#importing necessary modules\n",
    "\n",
    "import pandas as pd\n",
    "import matplotlib.pyplot as plt"
   ]
  },
  {
   "cell_type": "markdown",
   "id": "3e2047b1-a4ee-4a7d-9c0f-b19f559ca864",
   "metadata": {},
   "source": [
    "## Task 1 - Reading, cleaning and preparing the data"
   ]
  },
  {
   "cell_type": "markdown",
   "id": "8eb814c9-54d3-4481-a660-f7d82bbbc67e",
   "metadata": {},
   "source": [
    "To read the given [data](data/2315676.txt) from the **data** folder in the working directory we use the `pd.read_csv` function of the pandas library. "
   ]
  },
  {
   "cell_type": "code",
   "execution_count": 2,
   "id": "2df24e3e-6cda-4ca2-a46b-36e2eb88b948",
   "metadata": {},
   "outputs": [],
   "source": [
    "fp = 'data/2315676.txt' #fp means filepath\n",
    "\n",
    "data = pd.read_csv(fp, na_values = -9999, skiprows = [1], delim_whitespace = True)"
   ]
  },
  {
   "cell_type": "markdown",
   "id": "039a1e18-831c-479b-90f5-3c251bbe708a",
   "metadata": {},
   "source": [
    "- The `pd.read_csv` function requires the path of the file which we are trying to read, which we represented by **fp**.\n",
    "- As the missing values are mentioned as `-9999` in this data, we specify that information to the function through the `na_values` argument.\n",
    "- If we inspect the data in the raw format, we can observe that the first row has no information with just blank lines `-------`, so to remove that row from the data we specify that information to the function through the `skiprows=[1]` arugment.\n",
    "- As the data is seperated by whitespaces unlike comma or other deliminators, we specify the information to the function through the `delim_whitespace = True)` argument to make the data read into a data frame (table format)"
   ]
  },
  {
   "cell_type": "markdown",
   "id": "34cebc89-9ee5-4746-88d3-1cb526ef3f8b",
   "metadata": {},
   "source": [
    "Now, inspect the data to understand the rows, columns, data and the structure"
   ]
  },
  {
   "cell_type": "code",
   "execution_count": 3,
   "id": "d54a84ff-509d-4538-8a68-338d31e75ff3",
   "metadata": {},
   "outputs": [
    {
     "data": {
      "text/html": [
       "<div>\n",
       "<style scoped>\n",
       "    .dataframe tbody tr th:only-of-type {\n",
       "        vertical-align: middle;\n",
       "    }\n",
       "\n",
       "    .dataframe tbody tr th {\n",
       "        vertical-align: top;\n",
       "    }\n",
       "\n",
       "    .dataframe thead th {\n",
       "        text-align: right;\n",
       "    }\n",
       "</style>\n",
       "<table border=\"1\" class=\"dataframe\">\n",
       "  <thead>\n",
       "    <tr style=\"text-align: right;\">\n",
       "      <th></th>\n",
       "      <th>STATION</th>\n",
       "      <th>STATION_NAME</th>\n",
       "      <th>DATE</th>\n",
       "      <th>TAVG</th>\n",
       "      <th>TMAX</th>\n",
       "      <th>TMIN</th>\n",
       "    </tr>\n",
       "  </thead>\n",
       "  <tbody>\n",
       "    <tr>\n",
       "      <th>0</th>\n",
       "      <td>GHCND:FI000007501</td>\n",
       "      <td>SODANKYLA-AWS-FI</td>\n",
       "      <td>19080101</td>\n",
       "      <td>NaN</td>\n",
       "      <td>2.0</td>\n",
       "      <td>-37.0</td>\n",
       "    </tr>\n",
       "    <tr>\n",
       "      <th>1</th>\n",
       "      <td>GHCND:FI000007501</td>\n",
       "      <td>SODANKYLA-AWS-FI</td>\n",
       "      <td>19080102</td>\n",
       "      <td>NaN</td>\n",
       "      <td>6.0</td>\n",
       "      <td>-26.0</td>\n",
       "    </tr>\n",
       "    <tr>\n",
       "      <th>2</th>\n",
       "      <td>GHCND:FI000007501</td>\n",
       "      <td>SODANKYLA-AWS-FI</td>\n",
       "      <td>19080103</td>\n",
       "      <td>NaN</td>\n",
       "      <td>7.0</td>\n",
       "      <td>-27.0</td>\n",
       "    </tr>\n",
       "    <tr>\n",
       "      <th>3</th>\n",
       "      <td>GHCND:FI000007501</td>\n",
       "      <td>SODANKYLA-AWS-FI</td>\n",
       "      <td>19080104</td>\n",
       "      <td>NaN</td>\n",
       "      <td>-3.0</td>\n",
       "      <td>-27.0</td>\n",
       "    </tr>\n",
       "    <tr>\n",
       "      <th>4</th>\n",
       "      <td>GHCND:FI000007501</td>\n",
       "      <td>SODANKYLA-AWS-FI</td>\n",
       "      <td>19080105</td>\n",
       "      <td>NaN</td>\n",
       "      <td>4.0</td>\n",
       "      <td>-36.0</td>\n",
       "    </tr>\n",
       "    <tr>\n",
       "      <th>...</th>\n",
       "      <td>...</td>\n",
       "      <td>...</td>\n",
       "      <td>...</td>\n",
       "      <td>...</td>\n",
       "      <td>...</td>\n",
       "      <td>...</td>\n",
       "    </tr>\n",
       "    <tr>\n",
       "      <th>41060</th>\n",
       "      <td>GHCND:FI000007501</td>\n",
       "      <td>SODANKYLA-AWS-FI</td>\n",
       "      <td>20201003</td>\n",
       "      <td>47.0</td>\n",
       "      <td>51.0</td>\n",
       "      <td>NaN</td>\n",
       "    </tr>\n",
       "    <tr>\n",
       "      <th>41061</th>\n",
       "      <td>GHCND:FI000007501</td>\n",
       "      <td>SODANKYLA-AWS-FI</td>\n",
       "      <td>20201004</td>\n",
       "      <td>43.0</td>\n",
       "      <td>47.0</td>\n",
       "      <td>37.0</td>\n",
       "    </tr>\n",
       "    <tr>\n",
       "      <th>41062</th>\n",
       "      <td>GHCND:FI000007501</td>\n",
       "      <td>SODANKYLA-AWS-FI</td>\n",
       "      <td>20201005</td>\n",
       "      <td>42.0</td>\n",
       "      <td>NaN</td>\n",
       "      <td>37.0</td>\n",
       "    </tr>\n",
       "    <tr>\n",
       "      <th>41063</th>\n",
       "      <td>GHCND:FI000007501</td>\n",
       "      <td>SODANKYLA-AWS-FI</td>\n",
       "      <td>20201006</td>\n",
       "      <td>45.0</td>\n",
       "      <td>46.0</td>\n",
       "      <td>43.0</td>\n",
       "    </tr>\n",
       "    <tr>\n",
       "      <th>41064</th>\n",
       "      <td>GHCND:FI000007501</td>\n",
       "      <td>SODANKYLA-AWS-FI</td>\n",
       "      <td>20201007</td>\n",
       "      <td>47.0</td>\n",
       "      <td>50.0</td>\n",
       "      <td>44.0</td>\n",
       "    </tr>\n",
       "  </tbody>\n",
       "</table>\n",
       "<p>41065 rows × 6 columns</p>\n",
       "</div>"
      ],
      "text/plain": [
       "                 STATION      STATION_NAME      DATE  TAVG  TMAX  TMIN\n",
       "0      GHCND:FI000007501  SODANKYLA-AWS-FI  19080101   NaN   2.0 -37.0\n",
       "1      GHCND:FI000007501  SODANKYLA-AWS-FI  19080102   NaN   6.0 -26.0\n",
       "2      GHCND:FI000007501  SODANKYLA-AWS-FI  19080103   NaN   7.0 -27.0\n",
       "3      GHCND:FI000007501  SODANKYLA-AWS-FI  19080104   NaN  -3.0 -27.0\n",
       "4      GHCND:FI000007501  SODANKYLA-AWS-FI  19080105   NaN   4.0 -36.0\n",
       "...                  ...               ...       ...   ...   ...   ...\n",
       "41060  GHCND:FI000007501  SODANKYLA-AWS-FI  20201003  47.0  51.0   NaN\n",
       "41061  GHCND:FI000007501  SODANKYLA-AWS-FI  20201004  43.0  47.0  37.0\n",
       "41062  GHCND:FI000007501  SODANKYLA-AWS-FI  20201005  42.0   NaN  37.0\n",
       "41063  GHCND:FI000007501  SODANKYLA-AWS-FI  20201006  45.0  46.0  43.0\n",
       "41064  GHCND:FI000007501  SODANKYLA-AWS-FI  20201007  47.0  50.0  44.0\n",
       "\n",
       "[41065 rows x 6 columns]"
      ]
     },
     "execution_count": 3,
     "metadata": {},
     "output_type": "execute_result"
    }
   ],
   "source": [
    "data"
   ]
  },
  {
   "cell_type": "markdown",
   "id": "89b4de87-d749-4f6c-8d4f-08c41c055ba2",
   "metadata": {},
   "source": [
    "We can see the data has **41065** records with **6** columns."
   ]
  },
  {
   "cell_type": "markdown",
   "id": "f00859c2-9b16-44bc-a8bd-ba23ee6578db",
   "metadata": {},
   "source": [
    "Use the `DataFrame.describe()` function to better understand your data"
   ]
  },
  {
   "cell_type": "code",
   "execution_count": 4,
   "id": "80325273-3d81-413a-916a-e5b058834d43",
   "metadata": {},
   "outputs": [
    {
     "data": {
      "text/html": [
       "<div>\n",
       "<style scoped>\n",
       "    .dataframe tbody tr th:only-of-type {\n",
       "        vertical-align: middle;\n",
       "    }\n",
       "\n",
       "    .dataframe tbody tr th {\n",
       "        vertical-align: top;\n",
       "    }\n",
       "\n",
       "    .dataframe thead th {\n",
       "        text-align: right;\n",
       "    }\n",
       "</style>\n",
       "<table border=\"1\" class=\"dataframe\">\n",
       "  <thead>\n",
       "    <tr style=\"text-align: right;\">\n",
       "      <th></th>\n",
       "      <th>DATE</th>\n",
       "      <th>TAVG</th>\n",
       "      <th>TMAX</th>\n",
       "      <th>TMIN</th>\n",
       "    </tr>\n",
       "  </thead>\n",
       "  <tbody>\n",
       "    <tr>\n",
       "      <th>count</th>\n",
       "      <td>4.106500e+04</td>\n",
       "      <td>21222.000000</td>\n",
       "      <td>40296.000000</td>\n",
       "      <td>39119.000000</td>\n",
       "    </tr>\n",
       "    <tr>\n",
       "      <th>mean</th>\n",
       "      <td>1.963960e+07</td>\n",
       "      <td>31.696211</td>\n",
       "      <td>39.034296</td>\n",
       "      <td>22.315985</td>\n",
       "    </tr>\n",
       "    <tr>\n",
       "      <th>std</th>\n",
       "      <td>3.253620e+05</td>\n",
       "      <td>20.809623</td>\n",
       "      <td>20.905912</td>\n",
       "      <td>22.187090</td>\n",
       "    </tr>\n",
       "    <tr>\n",
       "      <th>min</th>\n",
       "      <td>1.908010e+07</td>\n",
       "      <td>-53.000000</td>\n",
       "      <td>-47.000000</td>\n",
       "      <td>-57.000000</td>\n",
       "    </tr>\n",
       "    <tr>\n",
       "      <th>25%</th>\n",
       "      <td>1.936030e+07</td>\n",
       "      <td>19.000000</td>\n",
       "      <td>26.000000</td>\n",
       "      <td>9.000000</td>\n",
       "    </tr>\n",
       "    <tr>\n",
       "      <th>50%</th>\n",
       "      <td>1.964061e+07</td>\n",
       "      <td>33.000000</td>\n",
       "      <td>38.000000</td>\n",
       "      <td>27.000000</td>\n",
       "    </tr>\n",
       "    <tr>\n",
       "      <th>75%</th>\n",
       "      <td>1.992072e+07</td>\n",
       "      <td>48.000000</td>\n",
       "      <td>55.000000</td>\n",
       "      <td>39.000000</td>\n",
       "    </tr>\n",
       "    <tr>\n",
       "      <th>max</th>\n",
       "      <td>2.020101e+07</td>\n",
       "      <td>78.000000</td>\n",
       "      <td>90.000000</td>\n",
       "      <td>67.000000</td>\n",
       "    </tr>\n",
       "  </tbody>\n",
       "</table>\n",
       "</div>"
      ],
      "text/plain": [
       "               DATE          TAVG          TMAX          TMIN\n",
       "count  4.106500e+04  21222.000000  40296.000000  39119.000000\n",
       "mean   1.963960e+07     31.696211     39.034296     22.315985\n",
       "std    3.253620e+05     20.809623     20.905912     22.187090\n",
       "min    1.908010e+07    -53.000000    -47.000000    -57.000000\n",
       "25%    1.936030e+07     19.000000     26.000000      9.000000\n",
       "50%    1.964061e+07     33.000000     38.000000     27.000000\n",
       "75%    1.992072e+07     48.000000     55.000000     39.000000\n",
       "max    2.020101e+07     78.000000     90.000000     67.000000"
      ]
     },
     "execution_count": 4,
     "metadata": {},
     "output_type": "execute_result"
    }
   ],
   "source": [
    "data.describe()"
   ]
  },
  {
   "cell_type": "markdown",
   "id": "2df48f32-11b0-4ae2-9c66-87a5bc0a2ac7",
   "metadata": {},
   "source": [
    "From the above statistics, we can observe that there are only **21222** records for the `TAVG` column, but there are significantly more records for the `TMAX` and `TMIN` columns. Therefore, we can use these max and min columns data to calculate an estimated average temperature for those records which are missing `TAVG` value."
   ]
  },
  {
   "cell_type": "markdown",
   "id": "ed2ac713-10cc-412e-9272-ae2ef4ece5bc",
   "metadata": {},
   "source": [
    "We create a new function named `estimates` that caluculates the estimated average temperatures."
   ]
  },
  {
   "cell_type": "code",
   "execution_count": 5,
   "id": "d06bf343-1952-4103-96d8-8f86c7debafc",
   "metadata": {},
   "outputs": [],
   "source": [
    "def estimates(df):\n",
    "    if pd.isnull(df.TAVG): # if TAVG is missing, then only the function calculates the average value of max and min value.\n",
    "        return (df.TMAX + df.TMIN)/2\n",
    "    else:\n",
    "        return df.TAVG"
   ]
  },
  {
   "cell_type": "markdown",
   "id": "f594c11a-0cb8-4f8e-b111-bb0ac565016c",
   "metadata": {},
   "source": [
    "Now, we use the above function to find the estimated average temperatures and add it to our data frame `data` using the `apply` function of pandas."
   ]
  },
  {
   "cell_type": "markdown",
   "id": "6d620d7b-7e1d-4bb2-a548-59cc62b6ec72",
   "metadata": {},
   "source": [
    "We a create a new column labelled `TAVG_EST` to record our new estimated average temperatures so that we do not mess with original data."
   ]
  },
  {
   "cell_type": "code",
   "execution_count": 6,
   "id": "843466c2-e355-4959-9b61-16bffd88b097",
   "metadata": {},
   "outputs": [],
   "source": [
    "data['TAVG_EST'] = data.apply(estimates, axis = 'columns')"
   ]
  },
  {
   "cell_type": "markdown",
   "id": "41062c6a-ae8a-4b43-a829-69be984477d9",
   "metadata": {},
   "source": [
    "The `apply` function takes the argument of:\n",
    "\n",
    "- what function we are passing the data frame data through : `estimates` function.\n",
    "- through which axis we are passing this function through : `columns` in this case as `TAVG`, `TMAX` & `TMIN` are column labels."
   ]
  },
  {
   "cell_type": "code",
   "execution_count": null,
   "id": "b6e0502a-faab-4d30-9c1c-8a4947b10945",
   "metadata": {},
   "outputs": [],
   "source": []
  }
 ],
 "metadata": {
  "kernelspec": {
   "display_name": "Python 3",
   "language": "python",
   "name": "python3"
  },
  "language_info": {
   "codemirror_mode": {
    "name": "ipython",
    "version": 3
   },
   "file_extension": ".py",
   "mimetype": "text/x-python",
   "name": "python",
   "nbconvert_exporter": "python",
   "pygments_lexer": "ipython3",
   "version": "3.8.8"
  }
 },
 "nbformat": 4,
 "nbformat_minor": 5
}
